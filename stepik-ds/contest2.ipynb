{
 "cells": [
  {
   "cell_type": "code",
   "execution_count": 1,
   "id": "685268cc",
   "metadata": {},
   "outputs": [],
   "source": [
    "import pandas as pd\n",
    "import numpy as np"
   ]
  },
  {
   "cell_type": "code",
   "execution_count": 2,
   "id": "554c62ee",
   "metadata": {},
   "outputs": [],
   "source": [
    "event_data = pd.read_csv('test/contest/event_data_train.csv')\n",
    "submissions_data = pd.read_csv('test/contest/submissions_data_train.csv')"
   ]
  },
  {
   "cell_type": "code",
   "execution_count": 3,
   "id": "fda2f057",
   "metadata": {},
   "outputs": [
    {
     "data": {
      "text/html": [
       "<div>\n",
       "<style scoped>\n",
       "    .dataframe tbody tr th:only-of-type {\n",
       "        vertical-align: middle;\n",
       "    }\n",
       "\n",
       "    .dataframe tbody tr th {\n",
       "        vertical-align: top;\n",
       "    }\n",
       "\n",
       "    .dataframe thead th {\n",
       "        text-align: right;\n",
       "    }\n",
       "</style>\n",
       "<table border=\"1\" class=\"dataframe\">\n",
       "  <thead>\n",
       "    <tr style=\"text-align: right;\">\n",
       "      <th></th>\n",
       "      <th>step_id</th>\n",
       "      <th>timestamp</th>\n",
       "      <th>action</th>\n",
       "      <th>user_id</th>\n",
       "    </tr>\n",
       "  </thead>\n",
       "  <tbody>\n",
       "    <tr>\n",
       "      <th>0</th>\n",
       "      <td>32815</td>\n",
       "      <td>1434340848</td>\n",
       "      <td>viewed</td>\n",
       "      <td>17632</td>\n",
       "    </tr>\n",
       "    <tr>\n",
       "      <th>1</th>\n",
       "      <td>32815</td>\n",
       "      <td>1434340848</td>\n",
       "      <td>passed</td>\n",
       "      <td>17632</td>\n",
       "    </tr>\n",
       "    <tr>\n",
       "      <th>2</th>\n",
       "      <td>32815</td>\n",
       "      <td>1434340848</td>\n",
       "      <td>discovered</td>\n",
       "      <td>17632</td>\n",
       "    </tr>\n",
       "    <tr>\n",
       "      <th>3</th>\n",
       "      <td>32811</td>\n",
       "      <td>1434340895</td>\n",
       "      <td>discovered</td>\n",
       "      <td>17632</td>\n",
       "    </tr>\n",
       "    <tr>\n",
       "      <th>4</th>\n",
       "      <td>32811</td>\n",
       "      <td>1434340895</td>\n",
       "      <td>viewed</td>\n",
       "      <td>17632</td>\n",
       "    </tr>\n",
       "  </tbody>\n",
       "</table>\n",
       "</div>"
      ],
      "text/plain": [
       "   step_id   timestamp      action  user_id\n",
       "0    32815  1434340848      viewed    17632\n",
       "1    32815  1434340848      passed    17632\n",
       "2    32815  1434340848  discovered    17632\n",
       "3    32811  1434340895  discovered    17632\n",
       "4    32811  1434340895      viewed    17632"
      ]
     },
     "execution_count": 3,
     "metadata": {},
     "output_type": "execute_result"
    }
   ],
   "source": [
    "event_data.head()"
   ]
  },
  {
   "cell_type": "code",
   "execution_count": 4,
   "id": "29b26eee",
   "metadata": {
    "scrolled": true
   },
   "outputs": [
    {
     "data": {
      "text/html": [
       "<div>\n",
       "<style scoped>\n",
       "    .dataframe tbody tr th:only-of-type {\n",
       "        vertical-align: middle;\n",
       "    }\n",
       "\n",
       "    .dataframe tbody tr th {\n",
       "        vertical-align: top;\n",
       "    }\n",
       "\n",
       "    .dataframe thead th {\n",
       "        text-align: right;\n",
       "    }\n",
       "</style>\n",
       "<table border=\"1\" class=\"dataframe\">\n",
       "  <thead>\n",
       "    <tr style=\"text-align: right;\">\n",
       "      <th></th>\n",
       "      <th>step_id</th>\n",
       "      <th>timestamp</th>\n",
       "      <th>submission_status</th>\n",
       "      <th>user_id</th>\n",
       "    </tr>\n",
       "  </thead>\n",
       "  <tbody>\n",
       "    <tr>\n",
       "      <th>0</th>\n",
       "      <td>31971</td>\n",
       "      <td>1434349275</td>\n",
       "      <td>correct</td>\n",
       "      <td>15853</td>\n",
       "    </tr>\n",
       "    <tr>\n",
       "      <th>1</th>\n",
       "      <td>31972</td>\n",
       "      <td>1434348300</td>\n",
       "      <td>correct</td>\n",
       "      <td>15853</td>\n",
       "    </tr>\n",
       "    <tr>\n",
       "      <th>2</th>\n",
       "      <td>31972</td>\n",
       "      <td>1478852149</td>\n",
       "      <td>wrong</td>\n",
       "      <td>15853</td>\n",
       "    </tr>\n",
       "    <tr>\n",
       "      <th>3</th>\n",
       "      <td>31972</td>\n",
       "      <td>1478852164</td>\n",
       "      <td>correct</td>\n",
       "      <td>15853</td>\n",
       "    </tr>\n",
       "    <tr>\n",
       "      <th>4</th>\n",
       "      <td>31976</td>\n",
       "      <td>1434348123</td>\n",
       "      <td>wrong</td>\n",
       "      <td>15853</td>\n",
       "    </tr>\n",
       "  </tbody>\n",
       "</table>\n",
       "</div>"
      ],
      "text/plain": [
       "   step_id   timestamp submission_status  user_id\n",
       "0    31971  1434349275           correct    15853\n",
       "1    31972  1434348300           correct    15853\n",
       "2    31972  1478852149             wrong    15853\n",
       "3    31972  1478852164           correct    15853\n",
       "4    31976  1434348123             wrong    15853"
      ]
     },
     "execution_count": 4,
     "metadata": {},
     "output_type": "execute_result"
    }
   ],
   "source": [
    "submissions_data.head()"
   ]
  },
  {
   "cell_type": "code",
   "execution_count": 5,
   "id": "68429fef",
   "metadata": {
    "scrolled": true
   },
   "outputs": [
    {
     "data": {
      "text/plain": [
       "19234"
      ]
     },
     "execution_count": 5,
     "metadata": {},
     "output_type": "execute_result"
    }
   ],
   "source": [
    "event_data.user_id.nunique()"
   ]
  },
  {
   "cell_type": "code",
   "execution_count": 6,
   "id": "9ee0fa71",
   "metadata": {},
   "outputs": [
    {
     "data": {
      "text/plain": [
       "9940"
      ]
     },
     "execution_count": 6,
     "metadata": {},
     "output_type": "execute_result"
    }
   ],
   "source": [
    "submissions_data.user_id.nunique()"
   ]
  },
  {
   "cell_type": "markdown",
   "id": "90a5d72f",
   "metadata": {},
   "source": [
    "---\n",
    "Отберем первые 2 дня по event_data"
   ]
  },
  {
   "cell_type": "code",
   "execution_count": 7,
   "id": "fe72609c",
   "metadata": {},
   "outputs": [],
   "source": [
    "user_min_time = event_data.groupby('user_id', as_index=False) \\\n",
    "    .agg(min_timestamp=('timestamp', 'min'))"
   ]
  },
  {
   "cell_type": "code",
   "execution_count": 8,
   "id": "480625b4",
   "metadata": {},
   "outputs": [],
   "source": [
    "time_limit = 2 * 24 * 60 * 60\n",
    "event_data_train = event_data.merge(user_min_time, how='outer')\\\n",
    "    .query('timestamp <= min_timestamp + @time_limit')\\\n",
    "    .drop('min_timestamp', axis=1)"
   ]
  },
  {
   "cell_type": "code",
   "execution_count": 9,
   "id": "1e2df3b9",
   "metadata": {},
   "outputs": [
    {
     "name": "stdout",
     "output_type": "stream",
     "text": [
      "19234\n",
      "(3480703, 4)\n",
      "19234\n",
      "(906203, 4)\n"
     ]
    }
   ],
   "source": [
    "print(event_data.user_id.nunique())\n",
    "print(event_data.shape)\n",
    "print(event_data_train.user_id.nunique())\n",
    "print(event_data_train.shape)"
   ]
  },
  {
   "cell_type": "code",
   "execution_count": 10,
   "id": "21f9b5c8",
   "metadata": {
    "scrolled": true
   },
   "outputs": [
    {
     "data": {
      "text/html": [
       "<div>\n",
       "<style scoped>\n",
       "    .dataframe tbody tr th:only-of-type {\n",
       "        vertical-align: middle;\n",
       "    }\n",
       "\n",
       "    .dataframe tbody tr th {\n",
       "        vertical-align: top;\n",
       "    }\n",
       "\n",
       "    .dataframe thead th {\n",
       "        text-align: right;\n",
       "    }\n",
       "</style>\n",
       "<table border=\"1\" class=\"dataframe\">\n",
       "  <thead>\n",
       "    <tr style=\"text-align: right;\">\n",
       "      <th></th>\n",
       "      <th>step_id</th>\n",
       "      <th>timestamp</th>\n",
       "      <th>action</th>\n",
       "      <th>user_id</th>\n",
       "    </tr>\n",
       "  </thead>\n",
       "  <tbody>\n",
       "    <tr>\n",
       "      <th>0</th>\n",
       "      <td>32815</td>\n",
       "      <td>1434340848</td>\n",
       "      <td>viewed</td>\n",
       "      <td>17632</td>\n",
       "    </tr>\n",
       "    <tr>\n",
       "      <th>1</th>\n",
       "      <td>32815</td>\n",
       "      <td>1434340848</td>\n",
       "      <td>passed</td>\n",
       "      <td>17632</td>\n",
       "    </tr>\n",
       "    <tr>\n",
       "      <th>2</th>\n",
       "      <td>32815</td>\n",
       "      <td>1434340848</td>\n",
       "      <td>discovered</td>\n",
       "      <td>17632</td>\n",
       "    </tr>\n",
       "    <tr>\n",
       "      <th>3</th>\n",
       "      <td>32811</td>\n",
       "      <td>1434340895</td>\n",
       "      <td>discovered</td>\n",
       "      <td>17632</td>\n",
       "    </tr>\n",
       "    <tr>\n",
       "      <th>4</th>\n",
       "      <td>32811</td>\n",
       "      <td>1434340895</td>\n",
       "      <td>viewed</td>\n",
       "      <td>17632</td>\n",
       "    </tr>\n",
       "  </tbody>\n",
       "</table>\n",
       "</div>"
      ],
      "text/plain": [
       "   step_id   timestamp      action  user_id\n",
       "0    32815  1434340848      viewed    17632\n",
       "1    32815  1434340848      passed    17632\n",
       "2    32815  1434340848  discovered    17632\n",
       "3    32811  1434340895  discovered    17632\n",
       "4    32811  1434340895      viewed    17632"
      ]
     },
     "execution_count": 10,
     "metadata": {},
     "output_type": "execute_result"
    }
   ],
   "source": [
    "event_data_train.head()"
   ]
  },
  {
   "cell_type": "markdown",
   "id": "403e7f0b",
   "metadata": {},
   "source": [
    "---\n",
    "Соберем статистику event_data"
   ]
  },
  {
   "cell_type": "code",
   "execution_count": 11,
   "id": "8574b481",
   "metadata": {},
   "outputs": [],
   "source": [
    "users_data = pd.crosstab(event_data_train.user_id, event_data_train.action)\\\n",
    "    .reset_index()"
   ]
  },
  {
   "cell_type": "code",
   "execution_count": 12,
   "id": "edd7cdeb",
   "metadata": {
    "scrolled": false
   },
   "outputs": [
    {
     "data": {
      "text/html": [
       "<div>\n",
       "<style scoped>\n",
       "    .dataframe tbody tr th:only-of-type {\n",
       "        vertical-align: middle;\n",
       "    }\n",
       "\n",
       "    .dataframe tbody tr th {\n",
       "        vertical-align: top;\n",
       "    }\n",
       "\n",
       "    .dataframe thead th {\n",
       "        text-align: right;\n",
       "    }\n",
       "</style>\n",
       "<table border=\"1\" class=\"dataframe\">\n",
       "  <thead>\n",
       "    <tr style=\"text-align: right;\">\n",
       "      <th>action</th>\n",
       "      <th>user_id</th>\n",
       "      <th>discovered</th>\n",
       "      <th>passed</th>\n",
       "      <th>started_attempt</th>\n",
       "      <th>viewed</th>\n",
       "    </tr>\n",
       "  </thead>\n",
       "  <tbody>\n",
       "    <tr>\n",
       "      <th>0</th>\n",
       "      <td>1</td>\n",
       "      <td>1</td>\n",
       "      <td>0</td>\n",
       "      <td>0</td>\n",
       "      <td>1</td>\n",
       "    </tr>\n",
       "    <tr>\n",
       "      <th>1</th>\n",
       "      <td>2</td>\n",
       "      <td>9</td>\n",
       "      <td>9</td>\n",
       "      <td>2</td>\n",
       "      <td>9</td>\n",
       "    </tr>\n",
       "    <tr>\n",
       "      <th>2</th>\n",
       "      <td>3</td>\n",
       "      <td>15</td>\n",
       "      <td>15</td>\n",
       "      <td>4</td>\n",
       "      <td>20</td>\n",
       "    </tr>\n",
       "    <tr>\n",
       "      <th>3</th>\n",
       "      <td>5</td>\n",
       "      <td>1</td>\n",
       "      <td>1</td>\n",
       "      <td>0</td>\n",
       "      <td>1</td>\n",
       "    </tr>\n",
       "    <tr>\n",
       "      <th>4</th>\n",
       "      <td>7</td>\n",
       "      <td>1</td>\n",
       "      <td>1</td>\n",
       "      <td>0</td>\n",
       "      <td>1</td>\n",
       "    </tr>\n",
       "  </tbody>\n",
       "</table>\n",
       "</div>"
      ],
      "text/plain": [
       "action  user_id  discovered  passed  started_attempt  viewed\n",
       "0             1           1       0                0       1\n",
       "1             2           9       9                2       9\n",
       "2             3          15      15                4      20\n",
       "3             5           1       1                0       1\n",
       "4             7           1       1                0       1"
      ]
     },
     "execution_count": 12,
     "metadata": {},
     "output_type": "execute_result"
    }
   ],
   "source": [
    "users_data.head()"
   ]
  },
  {
   "cell_type": "code",
   "execution_count": 13,
   "id": "47d28a46",
   "metadata": {},
   "outputs": [
    {
     "data": {
      "text/plain": [
       "(19234, 5)"
      ]
     },
     "execution_count": 13,
     "metadata": {},
     "output_type": "execute_result"
    }
   ],
   "source": [
    "users_data.shape"
   ]
  },
  {
   "cell_type": "markdown",
   "id": "3a947c8a",
   "metadata": {},
   "source": [
    "---\n",
    "Отберем первые 2 дня по submissions_data"
   ]
  },
  {
   "cell_type": "code",
   "execution_count": 14,
   "id": "2108e852",
   "metadata": {},
   "outputs": [],
   "source": [
    "user_min_time = submissions_data.groupby('user_id', as_index=False) \\\n",
    "    .agg(min_timestamp=('timestamp', 'min'))"
   ]
  },
  {
   "cell_type": "code",
   "execution_count": 15,
   "id": "a0b48b55",
   "metadata": {},
   "outputs": [],
   "source": [
    "time_limit = 2 * 24 * 60 * 60\n",
    "submissions_data_train = submissions_data.merge(user_min_time, how='outer')\\\n",
    "    .query('timestamp <= min_timestamp + @time_limit')\\\n",
    "    .drop('min_timestamp', axis=1)"
   ]
  },
  {
   "cell_type": "code",
   "execution_count": 16,
   "id": "e149b11d",
   "metadata": {},
   "outputs": [
    {
     "name": "stdout",
     "output_type": "stream",
     "text": [
      "9940\n",
      "(509104, 4)\n",
      "9940\n",
      "(134612, 4)\n"
     ]
    }
   ],
   "source": [
    "print(submissions_data.user_id.nunique())\n",
    "print(submissions_data.shape)\n",
    "print(submissions_data_train.user_id.nunique())\n",
    "print(submissions_data_train.shape)"
   ]
  },
  {
   "cell_type": "markdown",
   "id": "ff153ee9",
   "metadata": {},
   "source": [
    "---\n",
    "Добавим статистику submissions_data"
   ]
  },
  {
   "cell_type": "code",
   "execution_count": 17,
   "id": "4302aabd",
   "metadata": {},
   "outputs": [],
   "source": [
    "users_data_add = pd.crosstab(submissions_data_train.user_id, submissions_data_train.submission_status)\\\n",
    "                   .reset_index()"
   ]
  },
  {
   "cell_type": "code",
   "execution_count": 18,
   "id": "3101010e",
   "metadata": {},
   "outputs": [
    {
     "data": {
      "text/plain": [
       "(9940, 3)"
      ]
     },
     "execution_count": 18,
     "metadata": {},
     "output_type": "execute_result"
    }
   ],
   "source": [
    "users_data_add.shape"
   ]
  },
  {
   "cell_type": "code",
   "execution_count": 19,
   "id": "925ba1ff",
   "metadata": {},
   "outputs": [],
   "source": [
    "users_data = users_data.merge(users_data_add, on='user_id', how='outer').fillna(0)"
   ]
  },
  {
   "cell_type": "code",
   "execution_count": 20,
   "id": "46ddd9f8",
   "metadata": {},
   "outputs": [
    {
     "data": {
      "text/html": [
       "<div>\n",
       "<style scoped>\n",
       "    .dataframe tbody tr th:only-of-type {\n",
       "        vertical-align: middle;\n",
       "    }\n",
       "\n",
       "    .dataframe tbody tr th {\n",
       "        vertical-align: top;\n",
       "    }\n",
       "\n",
       "    .dataframe thead th {\n",
       "        text-align: right;\n",
       "    }\n",
       "</style>\n",
       "<table border=\"1\" class=\"dataframe\">\n",
       "  <thead>\n",
       "    <tr style=\"text-align: right;\">\n",
       "      <th></th>\n",
       "      <th>user_id</th>\n",
       "      <th>discovered</th>\n",
       "      <th>passed</th>\n",
       "      <th>started_attempt</th>\n",
       "      <th>viewed</th>\n",
       "      <th>correct</th>\n",
       "      <th>wrong</th>\n",
       "    </tr>\n",
       "  </thead>\n",
       "  <tbody>\n",
       "    <tr>\n",
       "      <th>0</th>\n",
       "      <td>1</td>\n",
       "      <td>1</td>\n",
       "      <td>0</td>\n",
       "      <td>0</td>\n",
       "      <td>1</td>\n",
       "      <td>0.0</td>\n",
       "      <td>0.0</td>\n",
       "    </tr>\n",
       "    <tr>\n",
       "      <th>1</th>\n",
       "      <td>2</td>\n",
       "      <td>9</td>\n",
       "      <td>9</td>\n",
       "      <td>2</td>\n",
       "      <td>9</td>\n",
       "      <td>2.0</td>\n",
       "      <td>0.0</td>\n",
       "    </tr>\n",
       "    <tr>\n",
       "      <th>2</th>\n",
       "      <td>3</td>\n",
       "      <td>15</td>\n",
       "      <td>15</td>\n",
       "      <td>4</td>\n",
       "      <td>20</td>\n",
       "      <td>4.0</td>\n",
       "      <td>4.0</td>\n",
       "    </tr>\n",
       "    <tr>\n",
       "      <th>3</th>\n",
       "      <td>5</td>\n",
       "      <td>1</td>\n",
       "      <td>1</td>\n",
       "      <td>0</td>\n",
       "      <td>1</td>\n",
       "      <td>2.0</td>\n",
       "      <td>2.0</td>\n",
       "    </tr>\n",
       "    <tr>\n",
       "      <th>4</th>\n",
       "      <td>7</td>\n",
       "      <td>1</td>\n",
       "      <td>1</td>\n",
       "      <td>0</td>\n",
       "      <td>1</td>\n",
       "      <td>0.0</td>\n",
       "      <td>0.0</td>\n",
       "    </tr>\n",
       "  </tbody>\n",
       "</table>\n",
       "</div>"
      ],
      "text/plain": [
       "   user_id  discovered  passed  started_attempt  viewed  correct  wrong\n",
       "0        1           1       0                0       1      0.0    0.0\n",
       "1        2           9       9                2       9      2.0    0.0\n",
       "2        3          15      15                4      20      4.0    4.0\n",
       "3        5           1       1                0       1      2.0    2.0\n",
       "4        7           1       1                0       1      0.0    0.0"
      ]
     },
     "execution_count": 20,
     "metadata": {},
     "output_type": "execute_result"
    }
   ],
   "source": [
    "users_data.head()"
   ]
  },
  {
   "cell_type": "markdown",
   "id": "cecabd83",
   "metadata": {},
   "source": [
    "---\n",
    "Прошел ли пользователь курс (по всем данным)"
   ]
  },
  {
   "cell_type": "code",
   "execution_count": 96,
   "id": "f4c1b507",
   "metadata": {},
   "outputs": [],
   "source": [
    "passed_by_users = pd.crosstab(submissions_data.user_id, submissions_data.submission_status)\\\n",
    "    .reset_index()"
   ]
  },
  {
   "cell_type": "code",
   "execution_count": 22,
   "id": "ac92185f",
   "metadata": {},
   "outputs": [],
   "source": [
    "passed_by_users['passed_course'] = passed_by_users.correct > 40"
   ]
  },
  {
   "cell_type": "code",
   "execution_count": 23,
   "id": "60f25de5",
   "metadata": {},
   "outputs": [],
   "source": [
    "users_data = users_data\\\n",
    "    .merge(passed_by_users[['user_id', 'passed_course']], on='user_id', how='outer')\\\n",
    "    .fillna(False)"
   ]
  },
  {
   "cell_type": "code",
   "execution_count": 24,
   "id": "740b831a",
   "metadata": {
    "scrolled": true
   },
   "outputs": [
    {
     "data": {
      "text/html": [
       "<div>\n",
       "<style scoped>\n",
       "    .dataframe tbody tr th:only-of-type {\n",
       "        vertical-align: middle;\n",
       "    }\n",
       "\n",
       "    .dataframe tbody tr th {\n",
       "        vertical-align: top;\n",
       "    }\n",
       "\n",
       "    .dataframe thead th {\n",
       "        text-align: right;\n",
       "    }\n",
       "</style>\n",
       "<table border=\"1\" class=\"dataframe\">\n",
       "  <thead>\n",
       "    <tr style=\"text-align: right;\">\n",
       "      <th></th>\n",
       "      <th>user_id</th>\n",
       "      <th>discovered</th>\n",
       "      <th>passed</th>\n",
       "      <th>started_attempt</th>\n",
       "      <th>viewed</th>\n",
       "      <th>correct</th>\n",
       "      <th>wrong</th>\n",
       "      <th>passed_course</th>\n",
       "    </tr>\n",
       "  </thead>\n",
       "  <tbody>\n",
       "    <tr>\n",
       "      <th>0</th>\n",
       "      <td>1</td>\n",
       "      <td>1</td>\n",
       "      <td>0</td>\n",
       "      <td>0</td>\n",
       "      <td>1</td>\n",
       "      <td>0.0</td>\n",
       "      <td>0.0</td>\n",
       "      <td>False</td>\n",
       "    </tr>\n",
       "    <tr>\n",
       "      <th>1</th>\n",
       "      <td>2</td>\n",
       "      <td>9</td>\n",
       "      <td>9</td>\n",
       "      <td>2</td>\n",
       "      <td>9</td>\n",
       "      <td>2.0</td>\n",
       "      <td>0.0</td>\n",
       "      <td>False</td>\n",
       "    </tr>\n",
       "    <tr>\n",
       "      <th>2</th>\n",
       "      <td>3</td>\n",
       "      <td>15</td>\n",
       "      <td>15</td>\n",
       "      <td>4</td>\n",
       "      <td>20</td>\n",
       "      <td>4.0</td>\n",
       "      <td>4.0</td>\n",
       "      <td>False</td>\n",
       "    </tr>\n",
       "    <tr>\n",
       "      <th>3</th>\n",
       "      <td>5</td>\n",
       "      <td>1</td>\n",
       "      <td>1</td>\n",
       "      <td>0</td>\n",
       "      <td>1</td>\n",
       "      <td>2.0</td>\n",
       "      <td>2.0</td>\n",
       "      <td>False</td>\n",
       "    </tr>\n",
       "    <tr>\n",
       "      <th>4</th>\n",
       "      <td>7</td>\n",
       "      <td>1</td>\n",
       "      <td>1</td>\n",
       "      <td>0</td>\n",
       "      <td>1</td>\n",
       "      <td>0.0</td>\n",
       "      <td>0.0</td>\n",
       "      <td>False</td>\n",
       "    </tr>\n",
       "  </tbody>\n",
       "</table>\n",
       "</div>"
      ],
      "text/plain": [
       "   user_id  discovered  passed  started_attempt  viewed  correct  wrong  \\\n",
       "0        1           1       0                0       1      0.0    0.0   \n",
       "1        2           9       9                2       9      2.0    0.0   \n",
       "2        3          15      15                4      20      4.0    4.0   \n",
       "3        5           1       1                0       1      2.0    2.0   \n",
       "4        7           1       1                0       1      0.0    0.0   \n",
       "\n",
       "   passed_course  \n",
       "0          False  \n",
       "1          False  \n",
       "2          False  \n",
       "3          False  \n",
       "4          False  "
      ]
     },
     "execution_count": 24,
     "metadata": {},
     "output_type": "execute_result"
    }
   ],
   "source": [
    "users_data.head()"
   ]
  },
  {
   "cell_type": "code",
   "execution_count": 25,
   "id": "28cab6eb",
   "metadata": {},
   "outputs": [
    {
     "data": {
      "text/plain": [
       "1968"
      ]
     },
     "execution_count": 25,
     "metadata": {},
     "output_type": "execute_result"
    }
   ],
   "source": [
    "users_data.passed_course.sum()"
   ]
  },
  {
   "cell_type": "markdown",
   "id": "6c75416a",
   "metadata": {},
   "source": [
    "---\n",
    "Собираем те же данные для predict"
   ]
  },
  {
   "cell_type": "code",
   "execution_count": 26,
   "id": "29623198",
   "metadata": {},
   "outputs": [],
   "source": [
    "event_data_pred = pd.read_csv('test/contest/events_data_test.csv')\n",
    "submissions_data_pred = pd.read_csv('test/contest/submission_data_test.csv')"
   ]
  },
  {
   "cell_type": "code",
   "execution_count": 27,
   "id": "7d067312",
   "metadata": {},
   "outputs": [
    {
     "name": "stdout",
     "output_type": "stream",
     "text": [
      "6184\n",
      "2803\n"
     ]
    }
   ],
   "source": [
    "print(event_data_pred.user_id.nunique())\n",
    "print(submissions_data_pred.user_id.nunique())"
   ]
  },
  {
   "cell_type": "code",
   "execution_count": 28,
   "id": "c24ddf18",
   "metadata": {},
   "outputs": [],
   "source": [
    "users_data_pred = pd.crosstab(event_data_pred.user_id, event_data_pred.action)\\\n",
    "    .reset_index()"
   ]
  },
  {
   "cell_type": "code",
   "execution_count": 29,
   "id": "30367849",
   "metadata": {},
   "outputs": [],
   "source": [
    "users_data_pred_add = pd.crosstab(submissions_data_pred.user_id, submissions_data_pred.submission_status)\\\n",
    "                   .reset_index()"
   ]
  },
  {
   "cell_type": "code",
   "execution_count": 30,
   "id": "dafc9bb0",
   "metadata": {},
   "outputs": [],
   "source": [
    "users_data_pred = users_data_pred.merge(users_data_pred_add, on='user_id', how='outer').fillna(0)"
   ]
  },
  {
   "cell_type": "code",
   "execution_count": 31,
   "id": "88948b8e",
   "metadata": {},
   "outputs": [
    {
     "data": {
      "text/html": [
       "<div>\n",
       "<style scoped>\n",
       "    .dataframe tbody tr th:only-of-type {\n",
       "        vertical-align: middle;\n",
       "    }\n",
       "\n",
       "    .dataframe tbody tr th {\n",
       "        vertical-align: top;\n",
       "    }\n",
       "\n",
       "    .dataframe thead th {\n",
       "        text-align: right;\n",
       "    }\n",
       "</style>\n",
       "<table border=\"1\" class=\"dataframe\">\n",
       "  <thead>\n",
       "    <tr style=\"text-align: right;\">\n",
       "      <th></th>\n",
       "      <th>user_id</th>\n",
       "      <th>discovered</th>\n",
       "      <th>passed</th>\n",
       "      <th>started_attempt</th>\n",
       "      <th>viewed</th>\n",
       "      <th>correct</th>\n",
       "      <th>wrong</th>\n",
       "    </tr>\n",
       "  </thead>\n",
       "  <tbody>\n",
       "    <tr>\n",
       "      <th>0</th>\n",
       "      <td>4</td>\n",
       "      <td>1</td>\n",
       "      <td>1</td>\n",
       "      <td>0</td>\n",
       "      <td>1</td>\n",
       "      <td>0.0</td>\n",
       "      <td>0.0</td>\n",
       "    </tr>\n",
       "    <tr>\n",
       "      <th>1</th>\n",
       "      <td>6</td>\n",
       "      <td>1</td>\n",
       "      <td>1</td>\n",
       "      <td>0</td>\n",
       "      <td>1</td>\n",
       "      <td>0.0</td>\n",
       "      <td>0.0</td>\n",
       "    </tr>\n",
       "    <tr>\n",
       "      <th>2</th>\n",
       "      <td>10</td>\n",
       "      <td>2</td>\n",
       "      <td>2</td>\n",
       "      <td>0</td>\n",
       "      <td>6</td>\n",
       "      <td>0.0</td>\n",
       "      <td>0.0</td>\n",
       "    </tr>\n",
       "    <tr>\n",
       "      <th>3</th>\n",
       "      <td>12</td>\n",
       "      <td>11</td>\n",
       "      <td>9</td>\n",
       "      <td>4</td>\n",
       "      <td>14</td>\n",
       "      <td>1.0</td>\n",
       "      <td>0.0</td>\n",
       "    </tr>\n",
       "    <tr>\n",
       "      <th>4</th>\n",
       "      <td>13</td>\n",
       "      <td>70</td>\n",
       "      <td>70</td>\n",
       "      <td>35</td>\n",
       "      <td>105</td>\n",
       "      <td>29.0</td>\n",
       "      <td>36.0</td>\n",
       "    </tr>\n",
       "    <tr>\n",
       "      <th>...</th>\n",
       "      <td>...</td>\n",
       "      <td>...</td>\n",
       "      <td>...</td>\n",
       "      <td>...</td>\n",
       "      <td>...</td>\n",
       "      <td>...</td>\n",
       "      <td>...</td>\n",
       "    </tr>\n",
       "    <tr>\n",
       "      <th>6179</th>\n",
       "      <td>26791</td>\n",
       "      <td>1</td>\n",
       "      <td>1</td>\n",
       "      <td>0</td>\n",
       "      <td>1</td>\n",
       "      <td>0.0</td>\n",
       "      <td>0.0</td>\n",
       "    </tr>\n",
       "    <tr>\n",
       "      <th>6180</th>\n",
       "      <td>26795</td>\n",
       "      <td>1</td>\n",
       "      <td>1</td>\n",
       "      <td>0</td>\n",
       "      <td>1</td>\n",
       "      <td>0.0</td>\n",
       "      <td>0.0</td>\n",
       "    </tr>\n",
       "    <tr>\n",
       "      <th>6181</th>\n",
       "      <td>26796</td>\n",
       "      <td>6</td>\n",
       "      <td>4</td>\n",
       "      <td>2</td>\n",
       "      <td>12</td>\n",
       "      <td>2.0</td>\n",
       "      <td>3.0</td>\n",
       "    </tr>\n",
       "    <tr>\n",
       "      <th>6182</th>\n",
       "      <td>26799</td>\n",
       "      <td>6</td>\n",
       "      <td>6</td>\n",
       "      <td>2</td>\n",
       "      <td>6</td>\n",
       "      <td>2.0</td>\n",
       "      <td>0.0</td>\n",
       "    </tr>\n",
       "    <tr>\n",
       "      <th>6183</th>\n",
       "      <td>26800</td>\n",
       "      <td>1</td>\n",
       "      <td>0</td>\n",
       "      <td>1</td>\n",
       "      <td>1</td>\n",
       "      <td>0.0</td>\n",
       "      <td>0.0</td>\n",
       "    </tr>\n",
       "  </tbody>\n",
       "</table>\n",
       "<p>6184 rows × 7 columns</p>\n",
       "</div>"
      ],
      "text/plain": [
       "      user_id  discovered  passed  started_attempt  viewed  correct  wrong\n",
       "0           4           1       1                0       1      0.0    0.0\n",
       "1           6           1       1                0       1      0.0    0.0\n",
       "2          10           2       2                0       6      0.0    0.0\n",
       "3          12          11       9                4      14      1.0    0.0\n",
       "4          13          70      70               35     105     29.0   36.0\n",
       "...       ...         ...     ...              ...     ...      ...    ...\n",
       "6179    26791           1       1                0       1      0.0    0.0\n",
       "6180    26795           1       1                0       1      0.0    0.0\n",
       "6181    26796           6       4                2      12      2.0    3.0\n",
       "6182    26799           6       6                2       6      2.0    0.0\n",
       "6183    26800           1       0                1       1      0.0    0.0\n",
       "\n",
       "[6184 rows x 7 columns]"
      ]
     },
     "execution_count": 31,
     "metadata": {},
     "output_type": "execute_result"
    }
   ],
   "source": [
    "users_data_pred"
   ]
  },
  {
   "cell_type": "markdown",
   "id": "f72786b5",
   "metadata": {},
   "source": [
    "---\n",
    "Готовим наборы"
   ]
  },
  {
   "cell_type": "code",
   "execution_count": 32,
   "id": "83010c1d",
   "metadata": {},
   "outputs": [],
   "source": [
    "X = users_data.drop(['user_id', 'passed_course'], axis=1).set_index(users_data.user_id)"
   ]
  },
  {
   "cell_type": "code",
   "execution_count": 33,
   "id": "7c3303e1",
   "metadata": {},
   "outputs": [],
   "source": [
    "y = users_data.passed_course.map(int)"
   ]
  },
  {
   "cell_type": "code",
   "execution_count": 34,
   "id": "60261095",
   "metadata": {},
   "outputs": [],
   "source": [
    "X_pred = users_data_pred.drop('user_id', axis=1).set_index(users_data_pred.user_id)"
   ]
  },
  {
   "cell_type": "code",
   "execution_count": 35,
   "id": "7ff4b6e5",
   "metadata": {},
   "outputs": [
    {
     "data": {
      "text/html": [
       "<div>\n",
       "<style scoped>\n",
       "    .dataframe tbody tr th:only-of-type {\n",
       "        vertical-align: middle;\n",
       "    }\n",
       "\n",
       "    .dataframe tbody tr th {\n",
       "        vertical-align: top;\n",
       "    }\n",
       "\n",
       "    .dataframe thead th {\n",
       "        text-align: right;\n",
       "    }\n",
       "</style>\n",
       "<table border=\"1\" class=\"dataframe\">\n",
       "  <thead>\n",
       "    <tr style=\"text-align: right;\">\n",
       "      <th></th>\n",
       "      <th>discovered</th>\n",
       "      <th>passed</th>\n",
       "      <th>started_attempt</th>\n",
       "      <th>viewed</th>\n",
       "      <th>correct</th>\n",
       "      <th>wrong</th>\n",
       "    </tr>\n",
       "    <tr>\n",
       "      <th>user_id</th>\n",
       "      <th></th>\n",
       "      <th></th>\n",
       "      <th></th>\n",
       "      <th></th>\n",
       "      <th></th>\n",
       "      <th></th>\n",
       "    </tr>\n",
       "  </thead>\n",
       "  <tbody>\n",
       "    <tr>\n",
       "      <th>4</th>\n",
       "      <td>1</td>\n",
       "      <td>1</td>\n",
       "      <td>0</td>\n",
       "      <td>1</td>\n",
       "      <td>0.0</td>\n",
       "      <td>0.0</td>\n",
       "    </tr>\n",
       "    <tr>\n",
       "      <th>6</th>\n",
       "      <td>1</td>\n",
       "      <td>1</td>\n",
       "      <td>0</td>\n",
       "      <td>1</td>\n",
       "      <td>0.0</td>\n",
       "      <td>0.0</td>\n",
       "    </tr>\n",
       "    <tr>\n",
       "      <th>10</th>\n",
       "      <td>2</td>\n",
       "      <td>2</td>\n",
       "      <td>0</td>\n",
       "      <td>6</td>\n",
       "      <td>0.0</td>\n",
       "      <td>0.0</td>\n",
       "    </tr>\n",
       "    <tr>\n",
       "      <th>12</th>\n",
       "      <td>11</td>\n",
       "      <td>9</td>\n",
       "      <td>4</td>\n",
       "      <td>14</td>\n",
       "      <td>1.0</td>\n",
       "      <td>0.0</td>\n",
       "    </tr>\n",
       "    <tr>\n",
       "      <th>13</th>\n",
       "      <td>70</td>\n",
       "      <td>70</td>\n",
       "      <td>35</td>\n",
       "      <td>105</td>\n",
       "      <td>29.0</td>\n",
       "      <td>36.0</td>\n",
       "    </tr>\n",
       "    <tr>\n",
       "      <th>...</th>\n",
       "      <td>...</td>\n",
       "      <td>...</td>\n",
       "      <td>...</td>\n",
       "      <td>...</td>\n",
       "      <td>...</td>\n",
       "      <td>...</td>\n",
       "    </tr>\n",
       "    <tr>\n",
       "      <th>26791</th>\n",
       "      <td>1</td>\n",
       "      <td>1</td>\n",
       "      <td>0</td>\n",
       "      <td>1</td>\n",
       "      <td>0.0</td>\n",
       "      <td>0.0</td>\n",
       "    </tr>\n",
       "    <tr>\n",
       "      <th>26795</th>\n",
       "      <td>1</td>\n",
       "      <td>1</td>\n",
       "      <td>0</td>\n",
       "      <td>1</td>\n",
       "      <td>0.0</td>\n",
       "      <td>0.0</td>\n",
       "    </tr>\n",
       "    <tr>\n",
       "      <th>26796</th>\n",
       "      <td>6</td>\n",
       "      <td>4</td>\n",
       "      <td>2</td>\n",
       "      <td>12</td>\n",
       "      <td>2.0</td>\n",
       "      <td>3.0</td>\n",
       "    </tr>\n",
       "    <tr>\n",
       "      <th>26799</th>\n",
       "      <td>6</td>\n",
       "      <td>6</td>\n",
       "      <td>2</td>\n",
       "      <td>6</td>\n",
       "      <td>2.0</td>\n",
       "      <td>0.0</td>\n",
       "    </tr>\n",
       "    <tr>\n",
       "      <th>26800</th>\n",
       "      <td>1</td>\n",
       "      <td>0</td>\n",
       "      <td>1</td>\n",
       "      <td>1</td>\n",
       "      <td>0.0</td>\n",
       "      <td>0.0</td>\n",
       "    </tr>\n",
       "  </tbody>\n",
       "</table>\n",
       "<p>6184 rows × 6 columns</p>\n",
       "</div>"
      ],
      "text/plain": [
       "         discovered  passed  started_attempt  viewed  correct  wrong\n",
       "user_id                                                             \n",
       "4                 1       1                0       1      0.0    0.0\n",
       "6                 1       1                0       1      0.0    0.0\n",
       "10                2       2                0       6      0.0    0.0\n",
       "12               11       9                4      14      1.0    0.0\n",
       "13               70      70               35     105     29.0   36.0\n",
       "...             ...     ...              ...     ...      ...    ...\n",
       "26791             1       1                0       1      0.0    0.0\n",
       "26795             1       1                0       1      0.0    0.0\n",
       "26796             6       4                2      12      2.0    3.0\n",
       "26799             6       6                2       6      2.0    0.0\n",
       "26800             1       0                1       1      0.0    0.0\n",
       "\n",
       "[6184 rows x 6 columns]"
      ]
     },
     "execution_count": 35,
     "metadata": {},
     "output_type": "execute_result"
    }
   ],
   "source": [
    "X_pred"
   ]
  },
  {
   "cell_type": "markdown",
   "id": "2b61f9a7",
   "metadata": {},
   "source": [
    "---\n",
    "Готовим модель и предсказываем"
   ]
  },
  {
   "cell_type": "code",
   "execution_count": 36,
   "id": "8f511e1b",
   "metadata": {},
   "outputs": [],
   "source": [
    "from sklearn.ensemble import RandomForestClassifier\n",
    "from sklearn.model_selection import GridSearchCV"
   ]
  },
  {
   "cell_type": "code",
   "execution_count": 213,
   "id": "06cfb856",
   "metadata": {},
   "outputs": [],
   "source": [
    "rf = RandomForestClassifier(random_state=0)"
   ]
  },
  {
   "cell_type": "code",
   "execution_count": 214,
   "id": "e6bd0437",
   "metadata": {},
   "outputs": [],
   "source": [
    "params = {'n_estimators': range(10, 51, 10),\n",
    "          'max_depth': range(1, 12, 2),\n",
    "          'min_samples_leaf': range(1, 8),\n",
    "          'min_samples_split': range(2, 9, 2)}"
   ]
  },
  {
   "cell_type": "code",
   "execution_count": 215,
   "id": "ad53f792",
   "metadata": {},
   "outputs": [],
   "source": [
    "search = GridSearchCV(rf, params, cv=3, n_jobs=-1)"
   ]
  },
  {
   "cell_type": "code",
   "execution_count": 216,
   "id": "ab608725",
   "metadata": {},
   "outputs": [
    {
     "data": {
      "text/plain": [
       "GridSearchCV(cv=3, estimator=RandomForestClassifier(random_state=0), n_jobs=-1,\n",
       "             param_grid={'max_depth': range(1, 12, 2),\n",
       "                         'min_samples_leaf': range(1, 8),\n",
       "                         'min_samples_split': range(2, 9, 2),\n",
       "                         'n_estimators': range(10, 51, 10)})"
      ]
     },
     "execution_count": 216,
     "metadata": {},
     "output_type": "execute_result"
    }
   ],
   "source": [
    "search.fit(X, y)"
   ]
  },
  {
   "cell_type": "code",
   "execution_count": 217,
   "id": "140ba016",
   "metadata": {},
   "outputs": [],
   "source": [
    "best_rf = search.best_estimator_"
   ]
  },
  {
   "cell_type": "code",
   "execution_count": 218,
   "id": "a7e88b2d",
   "metadata": {},
   "outputs": [
    {
     "data": {
      "text/plain": [
       "{'max_depth': 9,\n",
       " 'min_samples_leaf': 1,\n",
       " 'min_samples_split': 4,\n",
       " 'n_estimators': 20}"
      ]
     },
     "execution_count": 218,
     "metadata": {},
     "output_type": "execute_result"
    }
   ],
   "source": [
    "search.best_params_"
   ]
  },
  {
   "cell_type": "code",
   "execution_count": 222,
   "id": "7345175e",
   "metadata": {},
   "outputs": [],
   "source": [
    "y_pred = best_rf.predict_proba(X_pred)"
   ]
  },
  {
   "cell_type": "code",
   "execution_count": 231,
   "id": "00005077",
   "metadata": {},
   "outputs": [],
   "source": [
    "out_pred = pd.DataFrame({'user_id': X_pred.index, 'is_gone': y_pred[:,1]})"
   ]
  },
  {
   "cell_type": "code",
   "execution_count": 234,
   "id": "a61c15cd",
   "metadata": {},
   "outputs": [
    {
     "data": {
      "text/html": [
       "<div>\n",
       "<style scoped>\n",
       "    .dataframe tbody tr th:only-of-type {\n",
       "        vertical-align: middle;\n",
       "    }\n",
       "\n",
       "    .dataframe tbody tr th {\n",
       "        vertical-align: top;\n",
       "    }\n",
       "\n",
       "    .dataframe thead th {\n",
       "        text-align: right;\n",
       "    }\n",
       "</style>\n",
       "<table border=\"1\" class=\"dataframe\">\n",
       "  <thead>\n",
       "    <tr style=\"text-align: right;\">\n",
       "      <th></th>\n",
       "      <th>user_id</th>\n",
       "      <th>is_gone</th>\n",
       "    </tr>\n",
       "  </thead>\n",
       "  <tbody>\n",
       "    <tr>\n",
       "      <th>0</th>\n",
       "      <td>4</td>\n",
       "      <td>0.000432</td>\n",
       "    </tr>\n",
       "    <tr>\n",
       "      <th>1</th>\n",
       "      <td>6</td>\n",
       "      <td>0.000432</td>\n",
       "    </tr>\n",
       "    <tr>\n",
       "      <th>2</th>\n",
       "      <td>10</td>\n",
       "      <td>0.001087</td>\n",
       "    </tr>\n",
       "    <tr>\n",
       "      <th>3</th>\n",
       "      <td>12</td>\n",
       "      <td>0.024938</td>\n",
       "    </tr>\n",
       "    <tr>\n",
       "      <th>4</th>\n",
       "      <td>13</td>\n",
       "      <td>0.511438</td>\n",
       "    </tr>\n",
       "  </tbody>\n",
       "</table>\n",
       "</div>"
      ],
      "text/plain": [
       "   user_id   is_gone\n",
       "0        4  0.000432\n",
       "1        6  0.000432\n",
       "2       10  0.001087\n",
       "3       12  0.024938\n",
       "4       13  0.511438"
      ]
     },
     "execution_count": 234,
     "metadata": {},
     "output_type": "execute_result"
    }
   ],
   "source": [
    "out_pred.head()"
   ]
  },
  {
   "cell_type": "code",
   "execution_count": 236,
   "id": "43ab3034",
   "metadata": {},
   "outputs": [],
   "source": [
    "out_pred.to_csv('test/contest/attempt1.csv', index=False)"
   ]
  },
  {
   "cell_type": "markdown",
   "id": "fc1fb144",
   "metadata": {},
   "source": [
    "Your ROC score is 0.8874603430333944"
   ]
  },
  {
   "cell_type": "markdown",
   "id": "01befdcf",
   "metadata": {},
   "source": [
    "---\n",
    "Пробуем линейную регрессию"
   ]
  },
  {
   "cell_type": "code",
   "execution_count": 237,
   "id": "b0d1c617",
   "metadata": {},
   "outputs": [],
   "source": [
    "from sklearn.linear_model import LogisticRegressionCV"
   ]
  },
  {
   "cell_type": "code",
   "execution_count": 238,
   "id": "492a2cd4",
   "metadata": {},
   "outputs": [],
   "source": [
    "clf = LogisticRegressionCV(cv=5)"
   ]
  },
  {
   "cell_type": "code",
   "execution_count": 239,
   "id": "8afb13b4",
   "metadata": {},
   "outputs": [
    {
     "data": {
      "text/plain": [
       "LogisticRegressionCV(cv=5)"
      ]
     },
     "execution_count": 239,
     "metadata": {},
     "output_type": "execute_result"
    }
   ],
   "source": [
    "clf.fit(X, y)"
   ]
  },
  {
   "cell_type": "code",
   "execution_count": 240,
   "id": "bca34bcd",
   "metadata": {},
   "outputs": [],
   "source": [
    "y_pred = clf.predict_proba(X_pred)"
   ]
  },
  {
   "cell_type": "code",
   "execution_count": 241,
   "id": "dae9b67b",
   "metadata": {},
   "outputs": [],
   "source": [
    "out_pred = pd.DataFrame({'user_id': X_pred.index, 'is_gone': y_pred[:,1]})"
   ]
  },
  {
   "cell_type": "code",
   "execution_count": 242,
   "id": "57de9827",
   "metadata": {},
   "outputs": [
    {
     "data": {
      "text/html": [
       "<div>\n",
       "<style scoped>\n",
       "    .dataframe tbody tr th:only-of-type {\n",
       "        vertical-align: middle;\n",
       "    }\n",
       "\n",
       "    .dataframe tbody tr th {\n",
       "        vertical-align: top;\n",
       "    }\n",
       "\n",
       "    .dataframe thead th {\n",
       "        text-align: right;\n",
       "    }\n",
       "</style>\n",
       "<table border=\"1\" class=\"dataframe\">\n",
       "  <thead>\n",
       "    <tr style=\"text-align: right;\">\n",
       "      <th></th>\n",
       "      <th>user_id</th>\n",
       "      <th>is_gone</th>\n",
       "    </tr>\n",
       "  </thead>\n",
       "  <tbody>\n",
       "    <tr>\n",
       "      <th>0</th>\n",
       "      <td>4</td>\n",
       "      <td>0.038791</td>\n",
       "    </tr>\n",
       "    <tr>\n",
       "      <th>1</th>\n",
       "      <td>6</td>\n",
       "      <td>0.038791</td>\n",
       "    </tr>\n",
       "    <tr>\n",
       "      <th>2</th>\n",
       "      <td>10</td>\n",
       "      <td>0.040292</td>\n",
       "    </tr>\n",
       "    <tr>\n",
       "      <th>3</th>\n",
       "      <td>12</td>\n",
       "      <td>0.042275</td>\n",
       "    </tr>\n",
       "    <tr>\n",
       "      <th>4</th>\n",
       "      <td>13</td>\n",
       "      <td>0.823822</td>\n",
       "    </tr>\n",
       "  </tbody>\n",
       "</table>\n",
       "</div>"
      ],
      "text/plain": [
       "   user_id   is_gone\n",
       "0        4  0.038791\n",
       "1        6  0.038791\n",
       "2       10  0.040292\n",
       "3       12  0.042275\n",
       "4       13  0.823822"
      ]
     },
     "execution_count": 242,
     "metadata": {},
     "output_type": "execute_result"
    }
   ],
   "source": [
    "out_pred.head()"
   ]
  },
  {
   "cell_type": "code",
   "execution_count": 243,
   "id": "2ecf6ee0",
   "metadata": {},
   "outputs": [],
   "source": [
    "out_pred.to_csv('test/contest/attempt2.csv', index=False)"
   ]
  },
  {
   "cell_type": "markdown",
   "id": "e5b15afa",
   "metadata": {},
   "source": [
    "Your ROC score is 0.8768935958790868"
   ]
  },
  {
   "cell_type": "markdown",
   "id": "a651041a",
   "metadata": {},
   "source": [
    "---\n",
    "Увеличим рандом форест\n",
    "\n",
    "Не перезадал рандом - получил случайный результат"
   ]
  },
  {
   "cell_type": "code",
   "execution_count": 250,
   "id": "61d36d85",
   "metadata": {},
   "outputs": [],
   "source": [
    "params = {'n_estimators': range(100, 501, 100),\n",
    "          'max_depth': range(5, 12),\n",
    "          'min_samples_leaf': range(1, 3),\n",
    "          'min_samples_split': range(3, 7)}"
   ]
  },
  {
   "cell_type": "code",
   "execution_count": 251,
   "id": "c9c3e9b6",
   "metadata": {},
   "outputs": [],
   "source": [
    "search = GridSearchCV(rf, params, cv=3, n_jobs=-1)"
   ]
  },
  {
   "cell_type": "code",
   "execution_count": 252,
   "id": "3a1fd903",
   "metadata": {},
   "outputs": [
    {
     "data": {
      "text/plain": [
       "GridSearchCV(cv=3, estimator=RandomForestClassifier(random_state=0), n_jobs=-1,\n",
       "             param_grid={'max_depth': range(5, 12),\n",
       "                         'min_samples_leaf': range(1, 3),\n",
       "                         'min_samples_split': range(3, 7),\n",
       "                         'n_estimators': range(100, 501, 100)})"
      ]
     },
     "execution_count": 252,
     "metadata": {},
     "output_type": "execute_result"
    }
   ],
   "source": [
    "search.fit(X, y)"
   ]
  },
  {
   "cell_type": "code",
   "execution_count": 253,
   "id": "07969ad0",
   "metadata": {},
   "outputs": [
    {
     "data": {
      "text/plain": [
       "{'max_depth': 6,\n",
       " 'min_samples_leaf': 1,\n",
       " 'min_samples_split': 4,\n",
       " 'n_estimators': 200}"
      ]
     },
     "execution_count": 253,
     "metadata": {},
     "output_type": "execute_result"
    }
   ],
   "source": [
    "search.best_params_"
   ]
  },
  {
   "cell_type": "code",
   "execution_count": 256,
   "id": "1a8f59c5",
   "metadata": {},
   "outputs": [],
   "source": [
    "best_rf = search.best_estimator_\n",
    "y_pred = best_rf.predict_proba(X_pred)\n",
    "out_pred = pd.DataFrame({'user_id': X_pred.index, 'is_gone': y_pred[:,1]})\n",
    "out_pred.to_csv('test/contest/attempt3.csv', index=False)"
   ]
  },
  {
   "cell_type": "markdown",
   "id": "2747d80d",
   "metadata": {},
   "source": [
    "Your ROC score is 0.8883326020880851"
   ]
  },
  {
   "cell_type": "markdown",
   "id": "c81a1dc9",
   "metadata": {},
   "source": [
    "---\n",
    "Поищем оптимальный лес в районе {'max_depth': 9, 'min_samples_leaf': 1, 'min_samples_split': 4, 'n_estimators': 20}"
   ]
  },
  {
   "cell_type": "code",
   "execution_count": null,
   "id": "0250d374",
   "metadata": {},
   "outputs": [],
   "source": [
    "rf = RandomForestClassifier(random_state=0)"
   ]
  },
  {
   "cell_type": "code",
   "execution_count": 257,
   "id": "e1ac36c9",
   "metadata": {},
   "outputs": [],
   "source": [
    "params = {'n_estimators': range(13, 27),\n",
    "          'max_depth': range(7, 12),\n",
    "          'min_samples_leaf': range(1, 3),\n",
    "          'min_samples_split': range(3, 7)}"
   ]
  },
  {
   "cell_type": "code",
   "execution_count": 258,
   "id": "9893ac77",
   "metadata": {},
   "outputs": [],
   "source": [
    "search = GridSearchCV(rf, params, cv=3, n_jobs=-1)"
   ]
  },
  {
   "cell_type": "code",
   "execution_count": 259,
   "id": "75df1090",
   "metadata": {},
   "outputs": [
    {
     "data": {
      "text/plain": [
       "GridSearchCV(cv=3, estimator=RandomForestClassifier(random_state=0), n_jobs=-1,\n",
       "             param_grid={'max_depth': range(7, 12),\n",
       "                         'min_samples_leaf': range(1, 3),\n",
       "                         'min_samples_split': range(3, 7),\n",
       "                         'n_estimators': range(13, 27)})"
      ]
     },
     "execution_count": 259,
     "metadata": {},
     "output_type": "execute_result"
    }
   ],
   "source": [
    "search.fit(X, y)"
   ]
  },
  {
   "cell_type": "code",
   "execution_count": 260,
   "id": "225fed99",
   "metadata": {},
   "outputs": [
    {
     "data": {
      "text/plain": [
       "{'max_depth': 9,\n",
       " 'min_samples_leaf': 1,\n",
       " 'min_samples_split': 4,\n",
       " 'n_estimators': 23}"
      ]
     },
     "execution_count": 260,
     "metadata": {},
     "output_type": "execute_result"
    }
   ],
   "source": [
    "search.best_params_"
   ]
  },
  {
   "cell_type": "code",
   "execution_count": 261,
   "id": "999bb984",
   "metadata": {},
   "outputs": [],
   "source": [
    "best_rf = search.best_estimator_\n",
    "y_pred = best_rf.predict_proba(X_pred)\n",
    "out_pred = pd.DataFrame({'user_id': X_pred.index, 'is_gone': y_pred[:,1]})\n",
    "out_pred.to_csv('test/contest/attempt4.csv', index=False)"
   ]
  },
  {
   "cell_type": "markdown",
   "id": "ed394c42",
   "metadata": {},
   "source": [
    "Your ROC score is 0.8877151811579885\n"
   ]
  },
  {
   "cell_type": "markdown",
   "id": "1e9599b0",
   "metadata": {},
   "source": [
    "---\n",
    "и в районе {'max_depth': 6, 'min_samples_leaf': 1, 'min_samples_split': 4, 'n_estimators': 200}"
   ]
  },
  {
   "cell_type": "code",
   "execution_count": 263,
   "id": "1ea73414",
   "metadata": {},
   "outputs": [],
   "source": [
    "rf = RandomForestClassifier(random_state=0)"
   ]
  },
  {
   "cell_type": "code",
   "execution_count": 264,
   "id": "ce559ae8",
   "metadata": {},
   "outputs": [],
   "source": [
    "params = {'n_estimators': range(150, 251, 10),\n",
    "          'max_depth': range(4, 9),\n",
    "          'min_samples_leaf': range(1, 3),\n",
    "          'min_samples_split': range(3, 7)}"
   ]
  },
  {
   "cell_type": "code",
   "execution_count": 265,
   "id": "87a6c1b8",
   "metadata": {},
   "outputs": [],
   "source": [
    "search = GridSearchCV(rf, params, cv=3, n_jobs=-1)"
   ]
  },
  {
   "cell_type": "code",
   "execution_count": 266,
   "id": "98f99fd4",
   "metadata": {},
   "outputs": [
    {
     "data": {
      "text/plain": [
       "GridSearchCV(cv=3, estimator=RandomForestClassifier(random_state=0), n_jobs=-1,\n",
       "             param_grid={'max_depth': range(4, 9),\n",
       "                         'min_samples_leaf': range(1, 3),\n",
       "                         'min_samples_split': range(3, 7),\n",
       "                         'n_estimators': range(150, 251, 10)})"
      ]
     },
     "execution_count": 266,
     "metadata": {},
     "output_type": "execute_result"
    }
   ],
   "source": [
    "search.fit(X, y)"
   ]
  },
  {
   "cell_type": "code",
   "execution_count": 267,
   "id": "b233fafb",
   "metadata": {},
   "outputs": [
    {
     "data": {
      "text/plain": [
       "{'max_depth': 6,\n",
       " 'min_samples_leaf': 1,\n",
       " 'min_samples_split': 4,\n",
       " 'n_estimators': 200}"
      ]
     },
     "execution_count": 267,
     "metadata": {},
     "output_type": "execute_result"
    }
   ],
   "source": [
    "search.best_params_"
   ]
  },
  {
   "cell_type": "code",
   "execution_count": 268,
   "id": "03744561",
   "metadata": {},
   "outputs": [],
   "source": [
    "best_rf = search.best_estimator_\n",
    "y_pred = best_rf.predict_proba(X_pred)\n",
    "out_pred = pd.DataFrame({'user_id': X_pred.index, 'is_gone': y_pred[:,1]})\n",
    "out_pred.to_csv('test/contest/attempt5.csv', index=False)"
   ]
  },
  {
   "cell_type": "markdown",
   "id": "6c01cf96",
   "metadata": {},
   "source": [
    "закидывать не будем, еще потюним"
   ]
  },
  {
   "cell_type": "code",
   "execution_count": 270,
   "id": "cf449d6f",
   "metadata": {},
   "outputs": [],
   "source": [
    "rf = RandomForestClassifier(random_state=0)"
   ]
  },
  {
   "cell_type": "code",
   "execution_count": 271,
   "id": "6a8e3f46",
   "metadata": {},
   "outputs": [],
   "source": [
    "params = {'n_estimators': range(191, 210),\n",
    "          'max_depth': range(5, 8),\n",
    "          'min_samples_leaf': range(1, 3),\n",
    "          'min_samples_split': range(3, 6)}"
   ]
  },
  {
   "cell_type": "code",
   "execution_count": 272,
   "id": "72d71cbf",
   "metadata": {},
   "outputs": [],
   "source": [
    "search = GridSearchCV(rf, params, cv=3, n_jobs=-1)"
   ]
  },
  {
   "cell_type": "code",
   "execution_count": 273,
   "id": "dbbb6ef5",
   "metadata": {},
   "outputs": [
    {
     "data": {
      "text/plain": [
       "GridSearchCV(cv=3, estimator=RandomForestClassifier(random_state=0), n_jobs=-1,\n",
       "             param_grid={'max_depth': range(5, 8),\n",
       "                         'min_samples_leaf': range(1, 3),\n",
       "                         'min_samples_split': range(3, 6),\n",
       "                         'n_estimators': range(191, 210)})"
      ]
     },
     "execution_count": 273,
     "metadata": {},
     "output_type": "execute_result"
    }
   ],
   "source": [
    "search.fit(X, y)"
   ]
  },
  {
   "cell_type": "code",
   "execution_count": 274,
   "id": "744291a1",
   "metadata": {},
   "outputs": [
    {
     "data": {
      "text/plain": [
       "{'max_depth': 6,\n",
       " 'min_samples_leaf': 1,\n",
       " 'min_samples_split': 4,\n",
       " 'n_estimators': 202}"
      ]
     },
     "execution_count": 274,
     "metadata": {},
     "output_type": "execute_result"
    }
   ],
   "source": [
    "search.best_params_"
   ]
  },
  {
   "cell_type": "code",
   "execution_count": 275,
   "id": "c0340df7",
   "metadata": {},
   "outputs": [],
   "source": [
    "best_rf = search.best_estimator_\n",
    "y_pred = best_rf.predict_proba(X_pred)\n",
    "out_pred = pd.DataFrame({'user_id': X_pred.index, 'is_gone': y_pred[:,1]})\n",
    "out_pred.to_csv('test/contest/attempt5.csv', index=False)"
   ]
  },
  {
   "cell_type": "markdown",
   "id": "27f727f1",
   "metadata": {},
   "source": [
    "Your ROC score is 0.8882390432272335\n"
   ]
  },
  {
   "cell_type": "markdown",
   "id": "c44ad19e",
   "metadata": {},
   "source": [
    "---\n",
    "Добавим фичей: сколько времени затрачено на просмотр"
   ]
  },
  {
   "cell_type": "code",
   "execution_count": 37,
   "id": "8958483c",
   "metadata": {},
   "outputs": [],
   "source": [
    "discovered_time = event_data_train[event_data_train.action == 'discovered']\\\n",
    "    .groupby(['user_id', 'step_id'])\\\n",
    "    .agg({'timestamp': 'min'}).reset_index()\\\n",
    "    .rename({'timestamp': 'mintime'}, axis=1)"
   ]
  },
  {
   "cell_type": "code",
   "execution_count": 38,
   "id": "355fc297",
   "metadata": {},
   "outputs": [],
   "source": [
    "viewed_time = event_data_train[event_data_train.action == 'viewed']\\\n",
    "    .groupby(['user_id', 'step_id'])\\\n",
    "    .agg({'timestamp': 'max'}).reset_index()\\\n",
    "    .rename({'timestamp': 'maxtime'}, axis=1)"
   ]
  },
  {
   "cell_type": "code",
   "execution_count": 39,
   "id": "95ced030",
   "metadata": {
    "scrolled": true
   },
   "outputs": [],
   "source": [
    "viewed_step_time = discovered_time.merge(viewed_time, on=['user_id', 'step_id'], how='inner')"
   ]
  },
  {
   "cell_type": "code",
   "execution_count": 40,
   "id": "f6a72e5e",
   "metadata": {},
   "outputs": [],
   "source": [
    "viewed_step_time['total'] = viewed_step_time.maxtime - viewed_step_time.mintime"
   ]
  },
  {
   "cell_type": "code",
   "execution_count": 41,
   "id": "dab438ea",
   "metadata": {},
   "outputs": [],
   "source": [
    "view_total = viewed_step_time.groupby('user_id').agg({'total': 'sum'})"
   ]
  },
  {
   "cell_type": "code",
   "execution_count": 42,
   "id": "3deeb120",
   "metadata": {},
   "outputs": [],
   "source": [
    "discovered_time_pred = event_data_pred[event_data_pred.action == 'discovered']\\\n",
    "    .groupby(['user_id', 'step_id'])\\\n",
    "    .agg({'timestamp': 'min'}).reset_index()\\\n",
    "    .rename({'timestamp': 'mintime'}, axis=1)"
   ]
  },
  {
   "cell_type": "code",
   "execution_count": 43,
   "id": "b1fe3c44",
   "metadata": {},
   "outputs": [],
   "source": [
    "viewed_time_pred = event_data_pred[event_data_pred.action == 'viewed']\\\n",
    "    .groupby(['user_id', 'step_id'])\\\n",
    "    .agg({'timestamp': 'max'}).reset_index()\\\n",
    "    .rename({'timestamp': 'maxtime'}, axis=1)"
   ]
  },
  {
   "cell_type": "code",
   "execution_count": 44,
   "id": "921c0cad",
   "metadata": {},
   "outputs": [],
   "source": [
    "viewed_step_time_pred = discovered_time_pred.merge(viewed_time_pred, on=['user_id', 'step_id'], how='inner')"
   ]
  },
  {
   "cell_type": "code",
   "execution_count": 45,
   "id": "019e04a9",
   "metadata": {},
   "outputs": [],
   "source": [
    "viewed_step_time_pred['total'] = viewed_step_time_pred.maxtime - viewed_step_time_pred.mintime"
   ]
  },
  {
   "cell_type": "code",
   "execution_count": 46,
   "id": "9b56f770",
   "metadata": {},
   "outputs": [],
   "source": [
    "view_total_pred = viewed_step_time_pred.groupby('user_id').agg({'total': 'sum'})"
   ]
  },
  {
   "cell_type": "code",
   "execution_count": 47,
   "id": "50f23852",
   "metadata": {},
   "outputs": [],
   "source": [
    "X = X.merge(view_total, left_index=True, right_index=True, how='left').fillna('0')"
   ]
  },
  {
   "cell_type": "code",
   "execution_count": 48,
   "id": "8d682bf8",
   "metadata": {},
   "outputs": [],
   "source": [
    "X_pred = X_pred.merge(view_total_pred, left_index=True, right_index=True, how='left').fillna('0')"
   ]
  },
  {
   "cell_type": "code",
   "execution_count": 49,
   "id": "7a68ab1f",
   "metadata": {
    "scrolled": true
   },
   "outputs": [
    {
     "data": {
      "text/html": [
       "<div>\n",
       "<style scoped>\n",
       "    .dataframe tbody tr th:only-of-type {\n",
       "        vertical-align: middle;\n",
       "    }\n",
       "\n",
       "    .dataframe tbody tr th {\n",
       "        vertical-align: top;\n",
       "    }\n",
       "\n",
       "    .dataframe thead th {\n",
       "        text-align: right;\n",
       "    }\n",
       "</style>\n",
       "<table border=\"1\" class=\"dataframe\">\n",
       "  <thead>\n",
       "    <tr style=\"text-align: right;\">\n",
       "      <th></th>\n",
       "      <th>discovered</th>\n",
       "      <th>passed</th>\n",
       "      <th>started_attempt</th>\n",
       "      <th>viewed</th>\n",
       "      <th>correct</th>\n",
       "      <th>wrong</th>\n",
       "      <th>total</th>\n",
       "    </tr>\n",
       "    <tr>\n",
       "      <th>user_id</th>\n",
       "      <th></th>\n",
       "      <th></th>\n",
       "      <th></th>\n",
       "      <th></th>\n",
       "      <th></th>\n",
       "      <th></th>\n",
       "      <th></th>\n",
       "    </tr>\n",
       "  </thead>\n",
       "  <tbody>\n",
       "    <tr>\n",
       "      <th>1</th>\n",
       "      <td>1</td>\n",
       "      <td>0</td>\n",
       "      <td>0</td>\n",
       "      <td>1</td>\n",
       "      <td>0.0</td>\n",
       "      <td>0.0</td>\n",
       "      <td>0.0</td>\n",
       "    </tr>\n",
       "    <tr>\n",
       "      <th>2</th>\n",
       "      <td>9</td>\n",
       "      <td>9</td>\n",
       "      <td>2</td>\n",
       "      <td>9</td>\n",
       "      <td>2.0</td>\n",
       "      <td>0.0</td>\n",
       "      <td>0.0</td>\n",
       "    </tr>\n",
       "    <tr>\n",
       "      <th>3</th>\n",
       "      <td>15</td>\n",
       "      <td>15</td>\n",
       "      <td>4</td>\n",
       "      <td>20</td>\n",
       "      <td>4.0</td>\n",
       "      <td>4.0</td>\n",
       "      <td>114.0</td>\n",
       "    </tr>\n",
       "    <tr>\n",
       "      <th>5</th>\n",
       "      <td>1</td>\n",
       "      <td>1</td>\n",
       "      <td>0</td>\n",
       "      <td>1</td>\n",
       "      <td>2.0</td>\n",
       "      <td>2.0</td>\n",
       "      <td>0.0</td>\n",
       "    </tr>\n",
       "    <tr>\n",
       "      <th>7</th>\n",
       "      <td>1</td>\n",
       "      <td>1</td>\n",
       "      <td>0</td>\n",
       "      <td>1</td>\n",
       "      <td>0.0</td>\n",
       "      <td>0.0</td>\n",
       "      <td>0.0</td>\n",
       "    </tr>\n",
       "  </tbody>\n",
       "</table>\n",
       "</div>"
      ],
      "text/plain": [
       "         discovered  passed  started_attempt  viewed  correct  wrong  total\n",
       "user_id                                                                    \n",
       "1                 1       0                0       1      0.0    0.0    0.0\n",
       "2                 9       9                2       9      2.0    0.0    0.0\n",
       "3                15      15                4      20      4.0    4.0  114.0\n",
       "5                 1       1                0       1      2.0    2.0    0.0\n",
       "7                 1       1                0       1      0.0    0.0    0.0"
      ]
     },
     "execution_count": 49,
     "metadata": {},
     "output_type": "execute_result"
    }
   ],
   "source": [
    "X.head()"
   ]
  },
  {
   "cell_type": "code",
   "execution_count": 54,
   "id": "37d57daa",
   "metadata": {},
   "outputs": [
    {
     "data": {
      "text/plain": [
       "discovered         0\n",
       "passed             0\n",
       "started_attempt    0\n",
       "viewed             0\n",
       "correct            0\n",
       "wrong              0\n",
       "total              0\n",
       "dtype: int64"
      ]
     },
     "execution_count": 54,
     "metadata": {},
     "output_type": "execute_result"
    }
   ],
   "source": [
    "X_pred.isna().sum()"
   ]
  },
  {
   "cell_type": "markdown",
   "id": "6cd9a80d",
   "metadata": {},
   "source": [
    "---\n",
    "Пробуем предсказать"
   ]
  },
  {
   "cell_type": "code",
   "execution_count": 172,
   "id": "392b26c3",
   "metadata": {},
   "outputs": [],
   "source": [
    "def search_fit_predict(params, X, y, X_pred, path_to_result, random_state=0):\n",
    "    rf = RandomForestClassifier(random_state)\n",
    "    search = GridSearchCV(rf, params, cv=3, n_jobs=-1)\n",
    "    search.fit(X, y)\n",
    "    best_rf = search.best_estimator_\n",
    "    y_pred = best_rf.predict_proba(X_pred)\n",
    "    out_pred = pd.DataFrame({'user_id': X_pred.index, 'is_gone': y_pred[:,1]})\n",
    "    out_pred.to_csv(path_to_result, index=False)\n",
    "    return best_rf, search.best_params_"
   ]
  },
  {
   "cell_type": "code",
   "execution_count": 404,
   "id": "3da32c5e",
   "metadata": {
    "scrolled": true
   },
   "outputs": [
    {
     "data": {
      "text/plain": [
       "{'max_depth': 9,\n",
       " 'min_samples_leaf': 1,\n",
       " 'min_samples_split': 4,\n",
       " 'n_estimators': 20}"
      ]
     },
     "execution_count": 404,
     "metadata": {},
     "output_type": "execute_result"
    }
   ],
   "source": [
    "params = {'n_estimators': [10, 20, 50, 100, 150, 200, 250, 300],\n",
    "          'max_depth': range(5, 10),\n",
    "          'min_samples_leaf': range(1, 3),\n",
    "          'min_samples_split': range(3, 6)}\n",
    "best_rf, best_params = search_fit_predict(params, X, y, X_pred, 'test/contest/attempt6.csv')\n",
    "best_params"
   ]
  },
  {
   "cell_type": "markdown",
   "id": "bae13b2c",
   "metadata": {},
   "source": [
    "Your ROC score is 0.8851977047343148"
   ]
  },
  {
   "cell_type": "markdown",
   "id": "a311fae5",
   "metadata": {},
   "source": [
    "Промахнулись с глубиной, увеличим"
   ]
  },
  {
   "cell_type": "code",
   "execution_count": 56,
   "id": "590cf263",
   "metadata": {},
   "outputs": [
    {
     "data": {
      "text/plain": [
       "{'max_depth': 9,\n",
       " 'min_samples_leaf': 1,\n",
       " 'min_samples_split': 4,\n",
       " 'n_estimators': 20}"
      ]
     },
     "execution_count": 56,
     "metadata": {},
     "output_type": "execute_result"
    }
   ],
   "source": [
    "params = {'n_estimators': [10, 20, 50, 100, 150, 200, 250, 300],\n",
    "          'max_depth': range(8, 14),\n",
    "          'min_samples_leaf': [1],\n",
    "          'min_samples_split': [4]}\n",
    "best_rf, best_params = search_fit_predict(params, X, y, X_pred, 'test/contest/attempt7.csv')\n",
    "best_params"
   ]
  },
  {
   "cell_type": "markdown",
   "id": "4b1df2e0",
   "metadata": {},
   "source": [
    "Промахнулись с метрикой"
   ]
  },
  {
   "cell_type": "markdown",
   "id": "b0415c7c",
   "metadata": {},
   "source": [
    "---\n",
    "Сколько времени затрачено на решение задач"
   ]
  },
  {
   "cell_type": "code",
   "execution_count": 63,
   "id": "85e8dec2",
   "metadata": {},
   "outputs": [],
   "source": [
    "started_attempt_time = event_data_train[event_data_train.action == 'started_attempt']\\\n",
    "    .groupby(['user_id', 'step_id'])\\\n",
    "    .agg({'timestamp': 'min'}).reset_index()\\\n",
    "    .rename({'timestamp': 'mintime'}, axis=1)"
   ]
  },
  {
   "cell_type": "code",
   "execution_count": 64,
   "id": "f373f591",
   "metadata": {},
   "outputs": [],
   "source": [
    "passed_time = event_data_train[event_data_train.action == 'passed']\\\n",
    "    .groupby(['user_id', 'step_id'])\\\n",
    "    .agg({'timestamp': 'min'}).reset_index()\\\n",
    "    .rename({'timestamp': 'maxtime'}, axis=1)"
   ]
  },
  {
   "cell_type": "code",
   "execution_count": 65,
   "id": "ce05b4fc",
   "metadata": {
    "scrolled": true
   },
   "outputs": [],
   "source": [
    "task_time = started_attempt_time.merge(passed_time, on=['user_id', 'step_id'], how='inner')"
   ]
  },
  {
   "cell_type": "code",
   "execution_count": 66,
   "id": "30b5c857",
   "metadata": {},
   "outputs": [],
   "source": [
    "task_time['total'] = task_time.maxtime - task_time.mintime"
   ]
  },
  {
   "cell_type": "code",
   "execution_count": 67,
   "id": "0eff3649",
   "metadata": {},
   "outputs": [],
   "source": [
    "task_total = task_time.groupby('user_id').agg({'total': 'sum'})"
   ]
  },
  {
   "cell_type": "code",
   "execution_count": 69,
   "id": "edf90f3b",
   "metadata": {},
   "outputs": [],
   "source": [
    "started_attempt_time_pred = event_data_pred[event_data_pred.action == 'started_attempt']\\\n",
    "    .groupby(['user_id', 'step_id'])\\\n",
    "    .agg({'timestamp': 'min'}).reset_index()\\\n",
    "    .rename({'timestamp': 'mintime'}, axis=1)"
   ]
  },
  {
   "cell_type": "code",
   "execution_count": 70,
   "id": "2ae4217f",
   "metadata": {},
   "outputs": [],
   "source": [
    "passed_time_pred = event_data_pred[event_data_pred.action == 'passed']\\\n",
    "    .groupby(['user_id', 'step_id'])\\\n",
    "    .agg({'timestamp': 'min'}).reset_index()\\\n",
    "    .rename({'timestamp': 'maxtime'}, axis=1)"
   ]
  },
  {
   "cell_type": "code",
   "execution_count": 71,
   "id": "c1347769",
   "metadata": {},
   "outputs": [],
   "source": [
    "task_time_pred = started_attempt_time_pred.merge(passed_time_pred, on=['user_id', 'step_id'], how='inner')"
   ]
  },
  {
   "cell_type": "code",
   "execution_count": 72,
   "id": "18bed639",
   "metadata": {},
   "outputs": [],
   "source": [
    "task_time_pred['total'] = task_time_pred.maxtime - task_time_pred.mintime"
   ]
  },
  {
   "cell_type": "code",
   "execution_count": 73,
   "id": "6d9c11f3",
   "metadata": {},
   "outputs": [],
   "source": [
    "task_total_pred = task_time_pred.groupby('user_id').agg({'total': 'sum'})"
   ]
  },
  {
   "cell_type": "code",
   "execution_count": 90,
   "id": "c06291c5",
   "metadata": {},
   "outputs": [],
   "source": [
    "X_pred = X_pred.drop(['total_x', 'total_y'],axis=1)"
   ]
  },
  {
   "cell_type": "code",
   "execution_count": 84,
   "id": "cd9798e3",
   "metadata": {},
   "outputs": [],
   "source": [
    "X = X.merge(task_total, left_index=True, right_index=True, how='left').fillna('0')"
   ]
  },
  {
   "cell_type": "code",
   "execution_count": 78,
   "id": "246d4c00",
   "metadata": {},
   "outputs": [
    {
     "data": {
      "text/plain": [
       "(6184, 7)"
      ]
     },
     "execution_count": 78,
     "metadata": {},
     "output_type": "execute_result"
    }
   ],
   "source": [
    "X_pred.shape"
   ]
  },
  {
   "cell_type": "code",
   "execution_count": 91,
   "id": "0c1d2e8c",
   "metadata": {},
   "outputs": [],
   "source": [
    "X_pred = X_pred.merge(task_total_pred, left_index=True, right_index=True, how='left').fillna('0')"
   ]
  },
  {
   "cell_type": "code",
   "execution_count": 92,
   "id": "d2981f48",
   "metadata": {},
   "outputs": [
    {
     "data": {
      "text/html": [
       "<div>\n",
       "<style scoped>\n",
       "    .dataframe tbody tr th:only-of-type {\n",
       "        vertical-align: middle;\n",
       "    }\n",
       "\n",
       "    .dataframe tbody tr th {\n",
       "        vertical-align: top;\n",
       "    }\n",
       "\n",
       "    .dataframe thead th {\n",
       "        text-align: right;\n",
       "    }\n",
       "</style>\n",
       "<table border=\"1\" class=\"dataframe\">\n",
       "  <thead>\n",
       "    <tr style=\"text-align: right;\">\n",
       "      <th></th>\n",
       "      <th>discovered</th>\n",
       "      <th>passed</th>\n",
       "      <th>started_attempt</th>\n",
       "      <th>viewed</th>\n",
       "      <th>correct</th>\n",
       "      <th>wrong</th>\n",
       "      <th>total</th>\n",
       "    </tr>\n",
       "    <tr>\n",
       "      <th>user_id</th>\n",
       "      <th></th>\n",
       "      <th></th>\n",
       "      <th></th>\n",
       "      <th></th>\n",
       "      <th></th>\n",
       "      <th></th>\n",
       "      <th></th>\n",
       "    </tr>\n",
       "  </thead>\n",
       "  <tbody>\n",
       "    <tr>\n",
       "      <th>4</th>\n",
       "      <td>1</td>\n",
       "      <td>1</td>\n",
       "      <td>0</td>\n",
       "      <td>1</td>\n",
       "      <td>0.0</td>\n",
       "      <td>0.0</td>\n",
       "      <td>0</td>\n",
       "    </tr>\n",
       "    <tr>\n",
       "      <th>6</th>\n",
       "      <td>1</td>\n",
       "      <td>1</td>\n",
       "      <td>0</td>\n",
       "      <td>1</td>\n",
       "      <td>0.0</td>\n",
       "      <td>0.0</td>\n",
       "      <td>0</td>\n",
       "    </tr>\n",
       "    <tr>\n",
       "      <th>10</th>\n",
       "      <td>2</td>\n",
       "      <td>2</td>\n",
       "      <td>0</td>\n",
       "      <td>6</td>\n",
       "      <td>0.0</td>\n",
       "      <td>0.0</td>\n",
       "      <td>0</td>\n",
       "    </tr>\n",
       "    <tr>\n",
       "      <th>12</th>\n",
       "      <td>11</td>\n",
       "      <td>9</td>\n",
       "      <td>4</td>\n",
       "      <td>14</td>\n",
       "      <td>1.0</td>\n",
       "      <td>0.0</td>\n",
       "      <td>52.0</td>\n",
       "    </tr>\n",
       "    <tr>\n",
       "      <th>13</th>\n",
       "      <td>70</td>\n",
       "      <td>70</td>\n",
       "      <td>35</td>\n",
       "      <td>105</td>\n",
       "      <td>29.0</td>\n",
       "      <td>36.0</td>\n",
       "      <td>75490.0</td>\n",
       "    </tr>\n",
       "    <tr>\n",
       "      <th>...</th>\n",
       "      <td>...</td>\n",
       "      <td>...</td>\n",
       "      <td>...</td>\n",
       "      <td>...</td>\n",
       "      <td>...</td>\n",
       "      <td>...</td>\n",
       "      <td>...</td>\n",
       "    </tr>\n",
       "    <tr>\n",
       "      <th>26791</th>\n",
       "      <td>1</td>\n",
       "      <td>1</td>\n",
       "      <td>0</td>\n",
       "      <td>1</td>\n",
       "      <td>0.0</td>\n",
       "      <td>0.0</td>\n",
       "      <td>0</td>\n",
       "    </tr>\n",
       "    <tr>\n",
       "      <th>26795</th>\n",
       "      <td>1</td>\n",
       "      <td>1</td>\n",
       "      <td>0</td>\n",
       "      <td>1</td>\n",
       "      <td>0.0</td>\n",
       "      <td>0.0</td>\n",
       "      <td>0</td>\n",
       "    </tr>\n",
       "    <tr>\n",
       "      <th>26796</th>\n",
       "      <td>6</td>\n",
       "      <td>4</td>\n",
       "      <td>2</td>\n",
       "      <td>12</td>\n",
       "      <td>2.0</td>\n",
       "      <td>3.0</td>\n",
       "      <td>0</td>\n",
       "    </tr>\n",
       "    <tr>\n",
       "      <th>26799</th>\n",
       "      <td>6</td>\n",
       "      <td>6</td>\n",
       "      <td>2</td>\n",
       "      <td>6</td>\n",
       "      <td>2.0</td>\n",
       "      <td>0.0</td>\n",
       "      <td>183.0</td>\n",
       "    </tr>\n",
       "    <tr>\n",
       "      <th>26800</th>\n",
       "      <td>1</td>\n",
       "      <td>0</td>\n",
       "      <td>1</td>\n",
       "      <td>1</td>\n",
       "      <td>0.0</td>\n",
       "      <td>0.0</td>\n",
       "      <td>0</td>\n",
       "    </tr>\n",
       "  </tbody>\n",
       "</table>\n",
       "<p>6184 rows × 7 columns</p>\n",
       "</div>"
      ],
      "text/plain": [
       "         discovered  passed  started_attempt  viewed  correct  wrong    total\n",
       "user_id                                                                      \n",
       "4                 1       1                0       1      0.0    0.0        0\n",
       "6                 1       1                0       1      0.0    0.0        0\n",
       "10                2       2                0       6      0.0    0.0        0\n",
       "12               11       9                4      14      1.0    0.0     52.0\n",
       "13               70      70               35     105     29.0   36.0  75490.0\n",
       "...             ...     ...              ...     ...      ...    ...      ...\n",
       "26791             1       1                0       1      0.0    0.0        0\n",
       "26795             1       1                0       1      0.0    0.0        0\n",
       "26796             6       4                2      12      2.0    3.0        0\n",
       "26799             6       6                2       6      2.0    0.0    183.0\n",
       "26800             1       0                1       1      0.0    0.0        0\n",
       "\n",
       "[6184 rows x 7 columns]"
      ]
     },
     "execution_count": 92,
     "metadata": {},
     "output_type": "execute_result"
    }
   ],
   "source": [
    "X_pred"
   ]
  },
  {
   "cell_type": "code",
   "execution_count": 93,
   "id": "444f92ec",
   "metadata": {},
   "outputs": [
    {
     "data": {
      "text/plain": [
       "{'max_depth': 8,\n",
       " 'min_samples_leaf': 1,\n",
       " 'min_samples_split': 4,\n",
       " 'n_estimators': 100}"
      ]
     },
     "execution_count": 93,
     "metadata": {},
     "output_type": "execute_result"
    }
   ],
   "source": [
    "params = {'n_estimators': [10, 20, 50, 100, 150, 200, 250, 300],\n",
    "          'max_depth': range(8, 14),\n",
    "          'min_samples_leaf': [1],\n",
    "          'min_samples_split': [4]}\n",
    "best_rf, best_params = search_fit_predict(params, X, y, X_pred, 'test/contest/attempt7.csv')\n",
    "best_params"
   ]
  },
  {
   "cell_type": "markdown",
   "id": "53525159",
   "metadata": {},
   "source": [
    "Your ROC score is 0.8875451201961155\n"
   ]
  },
  {
   "cell_type": "code",
   "execution_count": 94,
   "id": "e84f1d22",
   "metadata": {},
   "outputs": [
    {
     "data": {
      "text/plain": [
       "{'max_depth': 6,\n",
       " 'min_samples_leaf': 1,\n",
       " 'min_samples_split': 4,\n",
       " 'n_estimators': 150}"
      ]
     },
     "execution_count": 94,
     "metadata": {},
     "output_type": "execute_result"
    }
   ],
   "source": [
    "params = {'n_estimators': [10, 20, 50, 100, 150, 200, 250, 300],\n",
    "          'max_depth': range(4, 14),\n",
    "          'min_samples_leaf': [1],\n",
    "          'min_samples_split': [4]}\n",
    "best_rf, best_params = search_fit_predict(params, X, y, X_pred, 'test/contest/attempt8.csv')\n",
    "best_params"
   ]
  },
  {
   "cell_type": "markdown",
   "id": "beba9ec0",
   "metadata": {},
   "source": [
    "Your ROC score is 0.8875768694124335"
   ]
  },
  {
   "cell_type": "markdown",
   "id": "181ee2ea",
   "metadata": {},
   "source": [
    "---\n",
    "Чутка схимичим и понизим планку"
   ]
  },
  {
   "cell_type": "code",
   "execution_count": 98,
   "id": "b1399fce",
   "metadata": {},
   "outputs": [
    {
     "data": {
      "text/plain": [
       "(19234,)"
      ]
     },
     "execution_count": 98,
     "metadata": {},
     "output_type": "execute_result"
    }
   ],
   "source": [
    "y.shape"
   ]
  },
  {
   "cell_type": "code",
   "execution_count": 146,
   "id": "e91cb038",
   "metadata": {
    "scrolled": true
   },
   "outputs": [],
   "source": [
    "#correct = passed_by_users[passed_by_users.correct > 39].drop('wrong', axis=1)\n",
    "correct = passed_by_users[passed_by_users.correct > 41].drop('wrong', axis=1)\n",
    "correct = correct.set_index(correct.user_id).drop('user_id', axis=1)"
   ]
  },
  {
   "cell_type": "code",
   "execution_count": 147,
   "id": "34514535",
   "metadata": {},
   "outputs": [],
   "source": [
    "correct.correct = True"
   ]
  },
  {
   "cell_type": "code",
   "execution_count": 148,
   "id": "b10bcabe",
   "metadata": {},
   "outputs": [],
   "source": [
    "y2 = X.drop(['discovered', 'passed', 'started_attempt', 'viewed', 'correct', 'wrong', 'total'],axis=1)\\\n",
    "      .merge(correct, left_index=True, right_index=True, how='left').fillna(False).correct"
   ]
  },
  {
   "cell_type": "code",
   "execution_count": 149,
   "id": "7150c3ec",
   "metadata": {},
   "outputs": [
    {
     "data": {
      "text/plain": [
       "1930"
      ]
     },
     "execution_count": 149,
     "metadata": {},
     "output_type": "execute_result"
    }
   ],
   "source": [
    "y2.sum()"
   ]
  },
  {
   "cell_type": "code",
   "execution_count": 150,
   "id": "084a1743",
   "metadata": {},
   "outputs": [
    {
     "data": {
      "text/plain": [
       "(19234,)"
      ]
     },
     "execution_count": 150,
     "metadata": {},
     "output_type": "execute_result"
    }
   ],
   "source": [
    "y2.shape"
   ]
  },
  {
   "cell_type": "code",
   "execution_count": 151,
   "id": "c1de3ac4",
   "metadata": {},
   "outputs": [
    {
     "data": {
      "text/plain": [
       "{'max_depth': 6,\n",
       " 'min_samples_leaf': 1,\n",
       " 'min_samples_split': 4,\n",
       " 'n_estimators': 300}"
      ]
     },
     "execution_count": 151,
     "metadata": {},
     "output_type": "execute_result"
    }
   ],
   "source": [
    "params = {'n_estimators': [10, 20, 50, 100, 150, 200, 250, 300],\n",
    "          'max_depth': range(4, 14),\n",
    "          'min_samples_leaf': [1],\n",
    "          'min_samples_split': [4]}\n",
    "best_rf, best_params = search_fit_predict(params, X, y2, X_pred, 'test/contest/attempt10.csv')\n",
    "best_params"
   ]
  },
  {
   "cell_type": "markdown",
   "id": "d8d25fb9",
   "metadata": {},
   "source": [
    "39: Your ROC score is 0.886211146474334\n",
    "41: Your ROC score is 0.8872853845860257"
   ]
  },
  {
   "cell_type": "markdown",
   "id": "3a04ceaf",
   "metadata": {},
   "source": [
    "---\n",
    "Введем рейт"
   ]
  },
  {
   "cell_type": "code",
   "execution_count": 166,
   "id": "2b121a52",
   "metadata": {},
   "outputs": [],
   "source": [
    "#X = X.drop('total', axis=1)\n",
    "X_pred = X_pred.drop('total',axis=1)"
   ]
  },
  {
   "cell_type": "code",
   "execution_count": 155,
   "id": "a0a6afbd",
   "metadata": {},
   "outputs": [],
   "source": [
    "X['correct_ratio'] = X.correct / (X.correct + X.wrong)"
   ]
  },
  {
   "cell_type": "code",
   "execution_count": 156,
   "id": "0aafa9a0",
   "metadata": {},
   "outputs": [],
   "source": [
    "X_pred['correct_ratio'] = X_pred.correct / (X_pred.correct + X_pred.wrong)"
   ]
  },
  {
   "cell_type": "code",
   "execution_count": 160,
   "id": "a8d11a60",
   "metadata": {},
   "outputs": [],
   "source": [
    "X = X.fillna(0)\n",
    "X_pred = X_pred.fillna(0)"
   ]
  },
  {
   "cell_type": "code",
   "execution_count": 168,
   "id": "f4030064",
   "metadata": {},
   "outputs": [
    {
     "data": {
      "text/html": [
       "<div>\n",
       "<style scoped>\n",
       "    .dataframe tbody tr th:only-of-type {\n",
       "        vertical-align: middle;\n",
       "    }\n",
       "\n",
       "    .dataframe tbody tr th {\n",
       "        vertical-align: top;\n",
       "    }\n",
       "\n",
       "    .dataframe thead th {\n",
       "        text-align: right;\n",
       "    }\n",
       "</style>\n",
       "<table border=\"1\" class=\"dataframe\">\n",
       "  <thead>\n",
       "    <tr style=\"text-align: right;\">\n",
       "      <th></th>\n",
       "      <th>discovered</th>\n",
       "      <th>passed</th>\n",
       "      <th>started_attempt</th>\n",
       "      <th>viewed</th>\n",
       "      <th>correct</th>\n",
       "      <th>wrong</th>\n",
       "      <th>correct_ratio</th>\n",
       "    </tr>\n",
       "    <tr>\n",
       "      <th>user_id</th>\n",
       "      <th></th>\n",
       "      <th></th>\n",
       "      <th></th>\n",
       "      <th></th>\n",
       "      <th></th>\n",
       "      <th></th>\n",
       "      <th></th>\n",
       "    </tr>\n",
       "  </thead>\n",
       "  <tbody>\n",
       "    <tr>\n",
       "      <th>1</th>\n",
       "      <td>1</td>\n",
       "      <td>0</td>\n",
       "      <td>0</td>\n",
       "      <td>1</td>\n",
       "      <td>0.0</td>\n",
       "      <td>0.0</td>\n",
       "      <td>0.000000</td>\n",
       "    </tr>\n",
       "    <tr>\n",
       "      <th>2</th>\n",
       "      <td>9</td>\n",
       "      <td>9</td>\n",
       "      <td>2</td>\n",
       "      <td>9</td>\n",
       "      <td>2.0</td>\n",
       "      <td>0.0</td>\n",
       "      <td>1.000000</td>\n",
       "    </tr>\n",
       "    <tr>\n",
       "      <th>3</th>\n",
       "      <td>15</td>\n",
       "      <td>15</td>\n",
       "      <td>4</td>\n",
       "      <td>20</td>\n",
       "      <td>4.0</td>\n",
       "      <td>4.0</td>\n",
       "      <td>0.500000</td>\n",
       "    </tr>\n",
       "    <tr>\n",
       "      <th>5</th>\n",
       "      <td>1</td>\n",
       "      <td>1</td>\n",
       "      <td>0</td>\n",
       "      <td>1</td>\n",
       "      <td>2.0</td>\n",
       "      <td>2.0</td>\n",
       "      <td>0.500000</td>\n",
       "    </tr>\n",
       "    <tr>\n",
       "      <th>7</th>\n",
       "      <td>1</td>\n",
       "      <td>1</td>\n",
       "      <td>0</td>\n",
       "      <td>1</td>\n",
       "      <td>0.0</td>\n",
       "      <td>0.0</td>\n",
       "      <td>0.000000</td>\n",
       "    </tr>\n",
       "    <tr>\n",
       "      <th>...</th>\n",
       "      <td>...</td>\n",
       "      <td>...</td>\n",
       "      <td>...</td>\n",
       "      <td>...</td>\n",
       "      <td>...</td>\n",
       "      <td>...</td>\n",
       "      <td>...</td>\n",
       "    </tr>\n",
       "    <tr>\n",
       "      <th>26790</th>\n",
       "      <td>2</td>\n",
       "      <td>2</td>\n",
       "      <td>0</td>\n",
       "      <td>2</td>\n",
       "      <td>1.0</td>\n",
       "      <td>0.0</td>\n",
       "      <td>1.000000</td>\n",
       "    </tr>\n",
       "    <tr>\n",
       "      <th>26793</th>\n",
       "      <td>1</td>\n",
       "      <td>0</td>\n",
       "      <td>1</td>\n",
       "      <td>1</td>\n",
       "      <td>0.0</td>\n",
       "      <td>0.0</td>\n",
       "      <td>0.000000</td>\n",
       "    </tr>\n",
       "    <tr>\n",
       "      <th>26794</th>\n",
       "      <td>50</td>\n",
       "      <td>50</td>\n",
       "      <td>24</td>\n",
       "      <td>90</td>\n",
       "      <td>24.0</td>\n",
       "      <td>7.0</td>\n",
       "      <td>0.774194</td>\n",
       "    </tr>\n",
       "    <tr>\n",
       "      <th>26797</th>\n",
       "      <td>10</td>\n",
       "      <td>10</td>\n",
       "      <td>2</td>\n",
       "      <td>10</td>\n",
       "      <td>2.0</td>\n",
       "      <td>0.0</td>\n",
       "      <td>1.000000</td>\n",
       "    </tr>\n",
       "    <tr>\n",
       "      <th>26798</th>\n",
       "      <td>12</td>\n",
       "      <td>12</td>\n",
       "      <td>3</td>\n",
       "      <td>12</td>\n",
       "      <td>2.0</td>\n",
       "      <td>1.0</td>\n",
       "      <td>0.666667</td>\n",
       "    </tr>\n",
       "  </tbody>\n",
       "</table>\n",
       "<p>19234 rows × 7 columns</p>\n",
       "</div>"
      ],
      "text/plain": [
       "         discovered  passed  started_attempt  viewed  correct  wrong  \\\n",
       "user_id                                                                \n",
       "1                 1       0                0       1      0.0    0.0   \n",
       "2                 9       9                2       9      2.0    0.0   \n",
       "3                15      15                4      20      4.0    4.0   \n",
       "5                 1       1                0       1      2.0    2.0   \n",
       "7                 1       1                0       1      0.0    0.0   \n",
       "...             ...     ...              ...     ...      ...    ...   \n",
       "26790             2       2                0       2      1.0    0.0   \n",
       "26793             1       0                1       1      0.0    0.0   \n",
       "26794            50      50               24      90     24.0    7.0   \n",
       "26797            10      10                2      10      2.0    0.0   \n",
       "26798            12      12                3      12      2.0    1.0   \n",
       "\n",
       "         correct_ratio  \n",
       "user_id                 \n",
       "1             0.000000  \n",
       "2             1.000000  \n",
       "3             0.500000  \n",
       "5             0.500000  \n",
       "7             0.000000  \n",
       "...                ...  \n",
       "26790         1.000000  \n",
       "26793         0.000000  \n",
       "26794         0.774194  \n",
       "26797         1.000000  \n",
       "26798         0.666667  \n",
       "\n",
       "[19234 rows x 7 columns]"
      ]
     },
     "execution_count": 168,
     "metadata": {},
     "output_type": "execute_result"
    }
   ],
   "source": [
    "X"
   ]
  },
  {
   "cell_type": "code",
   "execution_count": 167,
   "id": "fe9b3324",
   "metadata": {},
   "outputs": [
    {
     "data": {
      "text/plain": [
       "{'max_depth': 6,\n",
       " 'min_samples_leaf': 1,\n",
       " 'min_samples_split': 3,\n",
       " 'n_estimators': 160}"
      ]
     },
     "execution_count": 167,
     "metadata": {},
     "output_type": "execute_result"
    }
   ],
   "source": [
    "params = {'n_estimators': range(150, 251, 10),\n",
    "          'max_depth': range(4, 9),\n",
    "          'min_samples_leaf': range(1, 3),\n",
    "          'min_samples_split': range(3, 7)}\n",
    "best_rf, best_params = search_fit_predict(params, X, y, X_pred, 'test/contest/attempt11.csv')\n",
    "best_params"
   ]
  },
  {
   "cell_type": "markdown",
   "id": "4214a9d5",
   "metadata": {},
   "source": [
    "Your ROC score is 0.8875280634362852"
   ]
  },
  {
   "cell_type": "markdown",
   "id": "e6cd9598",
   "metadata": {},
   "source": [
    "---\n",
    "Eще 1 тест"
   ]
  },
  {
   "cell_type": "code",
   "execution_count": 170,
   "id": "a580dea7",
   "metadata": {},
   "outputs": [],
   "source": [
    "X = X.drop('correct_ratio', axis=1)\n",
    "X_pred = X_pred.drop('correct_ratio', axis=1)"
   ]
  },
  {
   "cell_type": "code",
   "execution_count": 173,
   "id": "b417847e",
   "metadata": {},
   "outputs": [
    {
     "data": {
      "text/plain": [
       "{'max_depth': 6,\n",
       " 'min_samples_leaf': 2,\n",
       " 'min_samples_split': 5,\n",
       " 'n_estimators': 209}"
      ]
     },
     "execution_count": 173,
     "metadata": {},
     "output_type": "execute_result"
    }
   ],
   "source": [
    "params = {'n_estimators': range(191, 210),\n",
    "          'max_depth': range(5, 8),\n",
    "          'min_samples_leaf': range(1, 3),\n",
    "          'min_samples_split': range(3, 6)}\n",
    "best_rf, best_params = search_fit_predict(params, X, y, X_pred, 'test/contest/attempt11.csv', 42)\n",
    "best_params"
   ]
  },
  {
   "cell_type": "markdown",
   "id": "dd8287b3",
   "metadata": {},
   "source": [
    "Your ROC score is 0.8886602269798761"
   ]
  },
  {
   "cell_type": "code",
   "execution_count": 176,
   "id": "e0ab5d4d",
   "metadata": {},
   "outputs": [
    {
     "data": {
      "text/plain": [
       "{'criterion': 'gini',\n",
       " 'max_depth': 7,\n",
       " 'min_samples_leaf': 2,\n",
       " 'min_samples_split': 4,\n",
       " 'n_estimators': 100}"
      ]
     },
     "execution_count": 176,
     "metadata": {},
     "output_type": "execute_result"
    }
   ],
   "source": [
    "params = {'n_estimators': range(100, 501, 100),\n",
    "          'criterion': ['entropy', 'gini'],\n",
    "          'max_depth': range(5, 12),\n",
    "          'min_samples_leaf': range(1, 3),\n",
    "          'min_samples_split': range(3, 7)}\n",
    "best_rf, best_params = search_fit_predict(params, X, y, X_pred, 'test/contest/attempt13.csv', 42)\n",
    "best_params"
   ]
  },
  {
   "cell_type": "markdown",
   "id": "ed889124",
   "metadata": {},
   "source": [
    "Your ROC score is 0.8877545299207653"
   ]
  },
  {
   "cell_type": "code",
   "execution_count": 179,
   "id": "17015e6b",
   "metadata": {},
   "outputs": [
    {
     "data": {
      "text/plain": [
       "{'max_depth': 9,\n",
       " 'min_samples_leaf': 4,\n",
       " 'min_samples_split': 6,\n",
       " 'n_estimators': 291}"
      ]
     },
     "execution_count": 179,
     "metadata": {},
     "output_type": "execute_result"
    }
   ],
   "source": [
    "params = {'n_estimators': range(191, 300),\n",
    "          'max_depth': range(5, 10),\n",
    "          'min_samples_leaf': range(1, 5),\n",
    "          'min_samples_split': range(3, 10)}\n",
    "best_rf, best_params = search_fit_predict(params, X, y, X_pred, 'test/contest/attempt14.csv', 42)\n",
    "best_params"
   ]
  },
  {
   "cell_type": "markdown",
   "id": "b900e48d",
   "metadata": {},
   "source": [
    "Your ROC score is 0.8881993567068363"
   ]
  },
  {
   "cell_type": "code",
   "execution_count": null,
   "id": "10895c32",
   "metadata": {},
   "outputs": [],
   "source": []
  }
 ],
 "metadata": {
  "kernelspec": {
   "display_name": "my_env",
   "language": "python",
   "name": "my_env"
  },
  "language_info": {
   "codemirror_mode": {
    "name": "ipython",
    "version": 3
   },
   "file_extension": ".py",
   "mimetype": "text/x-python",
   "name": "python",
   "nbconvert_exporter": "python",
   "pygments_lexer": "ipython3",
   "version": "3.8.8"
  }
 },
 "nbformat": 4,
 "nbformat_minor": 5
}
